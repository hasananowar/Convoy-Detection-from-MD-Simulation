{
 "cells": [
  {
   "cell_type": "code",
   "execution_count": 181,
   "id": "6a1e04cb",
   "metadata": {},
   "outputs": [],
   "source": [
    "import numpy as np\n",
    "from sklearn.cluster import DBSCAN\n",
    "import pandas as pd"
   ]
  },
  {
   "cell_type": "code",
   "execution_count": 182,
   "id": "0f82ee8a",
   "metadata": {},
   "outputs": [],
   "source": [
    "filePath = r\"C:\\Users\\mhanowar\\Box\\Iowa State Research\\Shared Materials_Abdullah_Hasan\\Abdullah Data\\ring_centers.npy\"\n",
    "data = np.load(filePath)\n",
    "\n",
    "# data1 = list()\n",
    "# for x in range(236):\n",
    "    \n",
    "#     data1.append(data[:1000,x,0:3].tolist())\n",
    "\n",
    "# data = data1"
   ]
  },
  {
   "cell_type": "code",
   "execution_count": 183,
   "id": "9c3fbff7",
   "metadata": {},
   "outputs": [
    {
     "data": {
      "text/plain": [
       "(200000, 236, 3)"
      ]
     },
     "execution_count": 183,
     "metadata": {},
     "output_type": "execute_result"
    }
   ],
   "source": [
    "data = data[:200000]\n",
    "data = np.array(data)\n",
    "data.shape"
   ]
  },
  {
   "cell_type": "code",
   "execution_count": 237,
   "id": "7dac8253",
   "metadata": {},
   "outputs": [
    {
     "name": "stdout",
     "output_type": "stream",
     "text": [
      "Number of Clusters =  1\n"
     ]
    }
   ],
   "source": [
    "cluster = DBSCAN(eps=9, min_samples=4).fit(data[0])\n",
    "\n",
    "print(\"Number of Clusters = \", max(cluster.labels_)+1)"
   ]
  },
  {
   "cell_type": "code",
   "execution_count": 210,
   "id": "cd38a435",
   "metadata": {},
   "outputs": [],
   "source": [
    "# data = np.load(filePath)\n",
    "# data[:,x,0:3].tolist()"
   ]
  },
  {
   "cell_type": "code",
   "execution_count": 186,
   "id": "6cea8c1d",
   "metadata": {},
   "outputs": [],
   "source": [
    "class ConvoyCandidate(object):\n",
    "    \"\"\"\n",
    "    Attributes:\n",
    "        indices(set): The object indices assigned to the convoy\n",
    "        is_assigned (bool):\n",
    "        start_time (int):  The start index of the convoy\n",
    "        end_time (int):  The last index of the convoy\n",
    "    \"\"\"\n",
    "    __slots__ = ('indices', 'is_assigned', 'start_time', 'end_time')\n",
    "\n",
    "    def __init__(self, indices, is_assigned, start_time, end_time):\n",
    "        self.indices = indices\n",
    "        self.is_assigned = is_assigned\n",
    "        self.start_time = start_time\n",
    "        self.end_time = end_time\n",
    "\n",
    "    def __repr__(self):\n",
    "        return '<%r %r indices=%r, is_assigned=%r, start_time=%r, end_time=%r>' % (self.__class__.__name__, id(self), self.indices, self.is_assigned, self.start_time, self.end_time)"
   ]
  },
  {
   "cell_type": "code",
   "execution_count": 187,
   "id": "ae451057",
   "metadata": {},
   "outputs": [],
   "source": [
    "class CMC(object):\n",
    "    \"\"\"Coherence Moving Cluster (CMC) algorithm\n",
    "\n",
    "    Attributes:\n",
    "        k (int):  Min number of consecutive timestamps to be considered a convoy\n",
    "        m (int):  Min number of elements to be considered a convoy\n",
    "    \"\"\"\n",
    "    def __init__(self, clf, k, m):\n",
    "        self.clf = clf\n",
    "        self.k = k\n",
    "        self.m = m\n",
    "\n",
    "    def fit_predict(self, X, y=None, sample_weight=None):\n",
    "        convoy_candidates = set()\n",
    "        columns = len(X[0])\n",
    "        column_iterator = range(columns)\n",
    "        output_convoys = []\n",
    "\n",
    "        for column in column_iterator:\n",
    "            current_convoy_candidates = set()\n",
    "            values = [row[column] if isinstance(row[column], (list, set)) else [row[column]] for row in X]\n",
    "            if len(values) < self.m:\n",
    "                continue\n",
    "            clusters = self.clf.fit_predict(values, y=y, sample_weight=sample_weight)\n",
    "            unique_clusters = set(clusters)\n",
    "            clusters_indices = dict((cluster, ConvoyCandidate(indices=set(), is_assigned=False, start_time=None, end_time=None)) for cluster in unique_clusters)\n",
    "\n",
    "            for index, cluster_assignment in enumerate(clusters):\n",
    "                clusters_indices[cluster_assignment].indices.add(index)\n",
    "\n",
    "            # update existing convoys\n",
    "            for convoy_candidate in convoy_candidates:\n",
    "                convoy_candidate_indices = convoy_candidate.indices\n",
    "                convoy_candidate.is_assigned = False\n",
    "                for cluster in unique_clusters:\n",
    "                    cluster_indices = clusters_indices[cluster].indices\n",
    "                    cluster_candidate_intersection = cluster_indices & convoy_candidate_indices\n",
    "                    if len(cluster_candidate_intersection) < self.m:\n",
    "                        continue\n",
    "                    convoy_candidate.indices = cluster_candidate_intersection\n",
    "                    current_convoy_candidates.add(convoy_candidate)\n",
    "                    convoy_candidate.end_time = column\n",
    "                    clusters_indices[cluster].is_assigned = convoy_candidate.is_assigned = True\n",
    "\n",
    "                # check if candidates qualify as convoys\n",
    "                candidate_life_time = (convoy_candidate.end_time - convoy_candidate.start_time) + 1\n",
    "                if (not convoy_candidate.is_assigned or column == column_iterator[-1]) and candidate_life_time >= self.k:\n",
    "                    output_convoys.append(convoy_candidate)\n",
    "\n",
    "            # create new candidates\n",
    "            for cluster in unique_clusters:\n",
    "                cluster_data = clusters_indices[cluster]\n",
    "                if cluster_data.is_assigned:\n",
    "                    continue\n",
    "                cluster_data.start_time = cluster_data.end_time = column\n",
    "                current_convoy_candidates.add(cluster_data)\n",
    "            convoy_candidates = current_convoy_candidates\n",
    "        return output_convoys"
   ]
  },
  {
   "cell_type": "code",
   "execution_count": 189,
   "id": "b2e319a7",
   "metadata": {},
   "outputs": [],
   "source": [
    "# Clustering using DBSCAN\n",
    "clustering_clf = DBSCAN(eps=8, min_samples=5)\n"
   ]
  },
  {
   "cell_type": "code",
   "execution_count": 190,
   "id": "54262783",
   "metadata": {},
   "outputs": [],
   "source": [
    "# # # # Test data of 3D Coordinates\n",
    "# # # # Elements (Molecules) are in row, timesteps are in column\n",
    "\n",
    "# data = ([[3,1,3],[3,2,4],[2,4,5]],\n",
    "#         [[4,2,2],[6,2,3],[4,4,5]],\n",
    "#         [[1,1,3],[51,2,-1],[55,3,0]],\n",
    "#         [[51,2,1],[52,2,4],[56,-3, 2]])"
   ]
  },
  {
   "cell_type": "code",
   "execution_count": 191,
   "id": "426fb0a7",
   "metadata": {},
   "outputs": [
    {
     "ename": "ValueError",
     "evalue": "Found array with dim 3. Estimator expected <= 2.",
     "output_type": "error",
     "traceback": [
      "\u001b[1;31m---------------------------------------------------------------------------\u001b[0m",
      "\u001b[1;31mValueError\u001b[0m                                Traceback (most recent call last)",
      "\u001b[1;32m<ipython-input-191-10ae3ed8b764>\u001b[0m in \u001b[0;36m<module>\u001b[1;34m\u001b[0m\n\u001b[0;32m      5\u001b[0m \u001b[1;33m\u001b[0m\u001b[0m\n\u001b[0;32m      6\u001b[0m \u001b[1;31m# Convoy calculation using Test data\u001b[0m\u001b[1;33m\u001b[0m\u001b[1;33m\u001b[0m\u001b[1;33m\u001b[0m\u001b[0m\n\u001b[1;32m----> 7\u001b[1;33m \u001b[0mconvoys\u001b[0m \u001b[1;33m=\u001b[0m \u001b[0mclf\u001b[0m\u001b[1;33m.\u001b[0m\u001b[0mfit_predict\u001b[0m\u001b[1;33m(\u001b[0m\u001b[0mdata\u001b[0m\u001b[1;33m)\u001b[0m\u001b[1;33m\u001b[0m\u001b[1;33m\u001b[0m\u001b[0m\n\u001b[0m\u001b[0;32m      8\u001b[0m \u001b[0mfile\u001b[0m \u001b[1;33m=\u001b[0m \u001b[0mopen\u001b[0m\u001b[1;33m(\u001b[0m\u001b[1;34m\"output.txt\"\u001b[0m\u001b[1;33m,\u001b[0m \u001b[1;34m\"w\"\u001b[0m\u001b[1;33m)\u001b[0m\u001b[1;33m\u001b[0m\u001b[1;33m\u001b[0m\u001b[0m\n\u001b[0;32m      9\u001b[0m \u001b[1;32mfor\u001b[0m \u001b[0mconvoy\u001b[0m \u001b[1;32min\u001b[0m \u001b[0mconvoys\u001b[0m\u001b[1;33m:\u001b[0m\u001b[1;33m\u001b[0m\u001b[1;33m\u001b[0m\u001b[0m\n",
      "\u001b[1;32m<ipython-input-187-57cafaba52a1>\u001b[0m in \u001b[0;36mfit_predict\u001b[1;34m(self, X, y, sample_weight)\u001b[0m\n\u001b[0;32m     22\u001b[0m             \u001b[1;32mif\u001b[0m \u001b[0mlen\u001b[0m\u001b[1;33m(\u001b[0m\u001b[0mvalues\u001b[0m\u001b[1;33m)\u001b[0m \u001b[1;33m<\u001b[0m \u001b[0mself\u001b[0m\u001b[1;33m.\u001b[0m\u001b[0mm\u001b[0m\u001b[1;33m:\u001b[0m\u001b[1;33m\u001b[0m\u001b[1;33m\u001b[0m\u001b[0m\n\u001b[0;32m     23\u001b[0m                 \u001b[1;32mcontinue\u001b[0m\u001b[1;33m\u001b[0m\u001b[1;33m\u001b[0m\u001b[0m\n\u001b[1;32m---> 24\u001b[1;33m             \u001b[0mclusters\u001b[0m \u001b[1;33m=\u001b[0m \u001b[0mself\u001b[0m\u001b[1;33m.\u001b[0m\u001b[0mclf\u001b[0m\u001b[1;33m.\u001b[0m\u001b[0mfit_predict\u001b[0m\u001b[1;33m(\u001b[0m\u001b[0mvalues\u001b[0m\u001b[1;33m,\u001b[0m \u001b[0my\u001b[0m\u001b[1;33m=\u001b[0m\u001b[0my\u001b[0m\u001b[1;33m,\u001b[0m \u001b[0msample_weight\u001b[0m\u001b[1;33m=\u001b[0m\u001b[0msample_weight\u001b[0m\u001b[1;33m)\u001b[0m\u001b[1;33m\u001b[0m\u001b[1;33m\u001b[0m\u001b[0m\n\u001b[0m\u001b[0;32m     25\u001b[0m             \u001b[0munique_clusters\u001b[0m \u001b[1;33m=\u001b[0m \u001b[0mset\u001b[0m\u001b[1;33m(\u001b[0m\u001b[0mclusters\u001b[0m\u001b[1;33m)\u001b[0m\u001b[1;33m\u001b[0m\u001b[1;33m\u001b[0m\u001b[0m\n\u001b[0;32m     26\u001b[0m             \u001b[0mclusters_indices\u001b[0m \u001b[1;33m=\u001b[0m \u001b[0mdict\u001b[0m\u001b[1;33m(\u001b[0m\u001b[1;33m(\u001b[0m\u001b[0mcluster\u001b[0m\u001b[1;33m,\u001b[0m \u001b[0mConvoyCandidate\u001b[0m\u001b[1;33m(\u001b[0m\u001b[0mindices\u001b[0m\u001b[1;33m=\u001b[0m\u001b[0mset\u001b[0m\u001b[1;33m(\u001b[0m\u001b[1;33m)\u001b[0m\u001b[1;33m,\u001b[0m \u001b[0mis_assigned\u001b[0m\u001b[1;33m=\u001b[0m\u001b[1;32mFalse\u001b[0m\u001b[1;33m,\u001b[0m \u001b[0mstart_time\u001b[0m\u001b[1;33m=\u001b[0m\u001b[1;32mNone\u001b[0m\u001b[1;33m,\u001b[0m \u001b[0mend_time\u001b[0m\u001b[1;33m=\u001b[0m\u001b[1;32mNone\u001b[0m\u001b[1;33m)\u001b[0m\u001b[1;33m)\u001b[0m \u001b[1;32mfor\u001b[0m \u001b[0mcluster\u001b[0m \u001b[1;32min\u001b[0m \u001b[0munique_clusters\u001b[0m\u001b[1;33m)\u001b[0m\u001b[1;33m\u001b[0m\u001b[1;33m\u001b[0m\u001b[0m\n",
      "\u001b[1;32m~\\Anaconda3\\lib\\site-packages\\sklearn\\cluster\\_dbscan.py\u001b[0m in \u001b[0;36mfit_predict\u001b[1;34m(self, X, y, sample_weight)\u001b[0m\n\u001b[0;32m    387\u001b[0m             \u001b[0mCluster\u001b[0m \u001b[0mlabels\u001b[0m\u001b[1;33m.\u001b[0m \u001b[0mNoisy\u001b[0m \u001b[0msamples\u001b[0m \u001b[0mare\u001b[0m \u001b[0mgiven\u001b[0m \u001b[0mthe\u001b[0m \u001b[0mlabel\u001b[0m \u001b[1;33m-\u001b[0m\u001b[1;36m1.\u001b[0m\u001b[1;33m\u001b[0m\u001b[1;33m\u001b[0m\u001b[0m\n\u001b[0;32m    388\u001b[0m         \"\"\"\n\u001b[1;32m--> 389\u001b[1;33m         \u001b[0mself\u001b[0m\u001b[1;33m.\u001b[0m\u001b[0mfit\u001b[0m\u001b[1;33m(\u001b[0m\u001b[0mX\u001b[0m\u001b[1;33m,\u001b[0m \u001b[0msample_weight\u001b[0m\u001b[1;33m=\u001b[0m\u001b[0msample_weight\u001b[0m\u001b[1;33m)\u001b[0m\u001b[1;33m\u001b[0m\u001b[1;33m\u001b[0m\u001b[0m\n\u001b[0m\u001b[0;32m    390\u001b[0m         \u001b[1;32mreturn\u001b[0m \u001b[0mself\u001b[0m\u001b[1;33m.\u001b[0m\u001b[0mlabels_\u001b[0m\u001b[1;33m\u001b[0m\u001b[1;33m\u001b[0m\u001b[0m\n",
      "\u001b[1;32m~\\Anaconda3\\lib\\site-packages\\sklearn\\cluster\\_dbscan.py\u001b[0m in \u001b[0;36mfit\u001b[1;34m(self, X, y, sample_weight)\u001b[0m\n\u001b[0;32m    308\u001b[0m \u001b[1;33m\u001b[0m\u001b[0m\n\u001b[0;32m    309\u001b[0m         \"\"\"\n\u001b[1;32m--> 310\u001b[1;33m         \u001b[0mX\u001b[0m \u001b[1;33m=\u001b[0m \u001b[0mself\u001b[0m\u001b[1;33m.\u001b[0m\u001b[0m_validate_data\u001b[0m\u001b[1;33m(\u001b[0m\u001b[0mX\u001b[0m\u001b[1;33m,\u001b[0m \u001b[0maccept_sparse\u001b[0m\u001b[1;33m=\u001b[0m\u001b[1;34m'csr'\u001b[0m\u001b[1;33m)\u001b[0m\u001b[1;33m\u001b[0m\u001b[1;33m\u001b[0m\u001b[0m\n\u001b[0m\u001b[0;32m    311\u001b[0m \u001b[1;33m\u001b[0m\u001b[0m\n\u001b[0;32m    312\u001b[0m         \u001b[1;32mif\u001b[0m \u001b[1;32mnot\u001b[0m \u001b[0mself\u001b[0m\u001b[1;33m.\u001b[0m\u001b[0meps\u001b[0m \u001b[1;33m>\u001b[0m \u001b[1;36m0.0\u001b[0m\u001b[1;33m:\u001b[0m\u001b[1;33m\u001b[0m\u001b[1;33m\u001b[0m\u001b[0m\n",
      "\u001b[1;32m~\\Anaconda3\\lib\\site-packages\\sklearn\\base.py\u001b[0m in \u001b[0;36m_validate_data\u001b[1;34m(self, X, y, reset, validate_separately, **check_params)\u001b[0m\n\u001b[0;32m    419\u001b[0m             \u001b[0mout\u001b[0m \u001b[1;33m=\u001b[0m \u001b[0mX\u001b[0m\u001b[1;33m\u001b[0m\u001b[1;33m\u001b[0m\u001b[0m\n\u001b[0;32m    420\u001b[0m         \u001b[1;32melif\u001b[0m \u001b[0misinstance\u001b[0m\u001b[1;33m(\u001b[0m\u001b[0my\u001b[0m\u001b[1;33m,\u001b[0m \u001b[0mstr\u001b[0m\u001b[1;33m)\u001b[0m \u001b[1;32mand\u001b[0m \u001b[0my\u001b[0m \u001b[1;33m==\u001b[0m \u001b[1;34m'no_validation'\u001b[0m\u001b[1;33m:\u001b[0m\u001b[1;33m\u001b[0m\u001b[1;33m\u001b[0m\u001b[0m\n\u001b[1;32m--> 421\u001b[1;33m             \u001b[0mX\u001b[0m \u001b[1;33m=\u001b[0m \u001b[0mcheck_array\u001b[0m\u001b[1;33m(\u001b[0m\u001b[0mX\u001b[0m\u001b[1;33m,\u001b[0m \u001b[1;33m**\u001b[0m\u001b[0mcheck_params\u001b[0m\u001b[1;33m)\u001b[0m\u001b[1;33m\u001b[0m\u001b[1;33m\u001b[0m\u001b[0m\n\u001b[0m\u001b[0;32m    422\u001b[0m             \u001b[0mout\u001b[0m \u001b[1;33m=\u001b[0m \u001b[0mX\u001b[0m\u001b[1;33m\u001b[0m\u001b[1;33m\u001b[0m\u001b[0m\n\u001b[0;32m    423\u001b[0m         \u001b[1;32melse\u001b[0m\u001b[1;33m:\u001b[0m\u001b[1;33m\u001b[0m\u001b[1;33m\u001b[0m\u001b[0m\n",
      "\u001b[1;32m~\\Anaconda3\\lib\\site-packages\\sklearn\\utils\\validation.py\u001b[0m in \u001b[0;36minner_f\u001b[1;34m(*args, **kwargs)\u001b[0m\n\u001b[0;32m     61\u001b[0m             \u001b[0mextra_args\u001b[0m \u001b[1;33m=\u001b[0m \u001b[0mlen\u001b[0m\u001b[1;33m(\u001b[0m\u001b[0margs\u001b[0m\u001b[1;33m)\u001b[0m \u001b[1;33m-\u001b[0m \u001b[0mlen\u001b[0m\u001b[1;33m(\u001b[0m\u001b[0mall_args\u001b[0m\u001b[1;33m)\u001b[0m\u001b[1;33m\u001b[0m\u001b[1;33m\u001b[0m\u001b[0m\n\u001b[0;32m     62\u001b[0m             \u001b[1;32mif\u001b[0m \u001b[0mextra_args\u001b[0m \u001b[1;33m<=\u001b[0m \u001b[1;36m0\u001b[0m\u001b[1;33m:\u001b[0m\u001b[1;33m\u001b[0m\u001b[1;33m\u001b[0m\u001b[0m\n\u001b[1;32m---> 63\u001b[1;33m                 \u001b[1;32mreturn\u001b[0m \u001b[0mf\u001b[0m\u001b[1;33m(\u001b[0m\u001b[1;33m*\u001b[0m\u001b[0margs\u001b[0m\u001b[1;33m,\u001b[0m \u001b[1;33m**\u001b[0m\u001b[0mkwargs\u001b[0m\u001b[1;33m)\u001b[0m\u001b[1;33m\u001b[0m\u001b[1;33m\u001b[0m\u001b[0m\n\u001b[0m\u001b[0;32m     64\u001b[0m \u001b[1;33m\u001b[0m\u001b[0m\n\u001b[0;32m     65\u001b[0m             \u001b[1;31m# extra_args > 0\u001b[0m\u001b[1;33m\u001b[0m\u001b[1;33m\u001b[0m\u001b[1;33m\u001b[0m\u001b[0m\n",
      "\u001b[1;32m~\\Anaconda3\\lib\\site-packages\\sklearn\\utils\\validation.py\u001b[0m in \u001b[0;36mcheck_array\u001b[1;34m(array, accept_sparse, accept_large_sparse, dtype, order, copy, force_all_finite, ensure_2d, allow_nd, ensure_min_samples, ensure_min_features, estimator)\u001b[0m\n\u001b[0;32m    657\u001b[0m                     \"into decimal numbers with dtype='numeric'\") from e\n\u001b[0;32m    658\u001b[0m         \u001b[1;32mif\u001b[0m \u001b[1;32mnot\u001b[0m \u001b[0mallow_nd\u001b[0m \u001b[1;32mand\u001b[0m \u001b[0marray\u001b[0m\u001b[1;33m.\u001b[0m\u001b[0mndim\u001b[0m \u001b[1;33m>=\u001b[0m \u001b[1;36m3\u001b[0m\u001b[1;33m:\u001b[0m\u001b[1;33m\u001b[0m\u001b[1;33m\u001b[0m\u001b[0m\n\u001b[1;32m--> 659\u001b[1;33m             raise ValueError(\"Found array with dim %d. %s expected <= 2.\"\n\u001b[0m\u001b[0;32m    660\u001b[0m                              % (array.ndim, estimator_name))\n\u001b[0;32m    661\u001b[0m \u001b[1;33m\u001b[0m\u001b[0m\n",
      "\u001b[1;31mValueError\u001b[0m: Found array with dim 3. Estimator expected <= 2."
     ]
    }
   ],
   "source": [
    "# Min elements for convoy = m\n",
    "# Min consecutive timesteps = k\n",
    "\n",
    "clf = CMC(clustering_clf, k=10, m=5)\n",
    "\n",
    "# Convoy calculation using Test data\n",
    "convoys = clf.fit_predict(data)\n",
    "file = open(\"output.txt\", \"w\")\n",
    "for convoy in convoys:\n",
    "    print('Detected Convoy')\n",
    "#     for i in convoy.indices:\n",
    "#         print('%i: %r - Start Time: %r, End Time: %r' % (i, data[i], convoy.start_time, convoy.end_time))\n",
    "    print(convoy)\n",
    "#     file.write('%r - S: %r, E: %r\\n' % (convoy.indices, convoy.start_time, convoy.end_time))\n",
    "#     file.write(str(convoy.start_time))\n",
    "#     file.write(str(convoy.end_time))\n",
    "# file.close()"
   ]
  },
  {
   "cell_type": "code",
   "execution_count": null,
   "id": "26ac2a40",
   "metadata": {},
   "outputs": [],
   "source": [
    "# data = np.load(filePath)"
   ]
  },
  {
   "cell_type": "code",
   "execution_count": null,
   "id": "8f4281e0",
   "metadata": {},
   "outputs": [],
   "source": [
    "# df1 = pd.DataFrame()\n",
    "# for x in range(236):\n",
    "#     df = pd.DataFrame(data[:50,x,:])\n",
    "#     df[\"obj_id\"] = x\n",
    "#     df[\"t\"] = range(50)\n",
    "#     df = df.rename(columns={0: \"x\", 1: \"y\", 2: \"z\"})\n",
    "#     df = df[[\"obj_id\", \"t\", \"x\", \"y\", \"z\"]]\n",
    "#     df1 = pd.concat([df1, df])\n",
    "\n",
    "# df1 = df1.reset_index(drop=True)"
   ]
  },
  {
   "cell_type": "code",
   "execution_count": null,
   "id": "eb7c3504",
   "metadata": {},
   "outputs": [],
   "source": [
    "# df1.to_csv(r\"C:\\Users\\mhanowar\\Desktop\\Time-Series-Analysis-with-Chiral-Separation\\data2-50.csv\", index=False)"
   ]
  },
  {
   "cell_type": "code",
   "execution_count": null,
   "id": "1f3d769e",
   "metadata": {},
   "outputs": [],
   "source": [
    "# df1[:11800]"
   ]
  },
  {
   "cell_type": "code",
   "execution_count": null,
   "id": "c7e743dc",
   "metadata": {},
   "outputs": [],
   "source": [
    "# pd.read_csv(r\"C:\\Users\\mhanowar\\Desktop\\Time-Series-Analysis-with-Chiral-Separation\\data2-50.csv\")"
   ]
  },
  {
   "cell_type": "code",
   "execution_count": null,
   "id": "511edeb3",
   "metadata": {},
   "outputs": [],
   "source": []
  }
 ],
 "metadata": {
  "kernelspec": {
   "display_name": "Python 3",
   "language": "python",
   "name": "python3"
  },
  "language_info": {
   "codemirror_mode": {
    "name": "ipython",
    "version": 3
   },
   "file_extension": ".py",
   "mimetype": "text/x-python",
   "name": "python",
   "nbconvert_exporter": "python",
   "pygments_lexer": "ipython3",
   "version": "3.8.8"
  }
 },
 "nbformat": 4,
 "nbformat_minor": 5
}
