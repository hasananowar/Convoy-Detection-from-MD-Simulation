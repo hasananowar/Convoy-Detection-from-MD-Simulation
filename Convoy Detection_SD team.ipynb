{
 "cells": [
  {
   "cell_type": "code",
   "execution_count": 21,
   "id": "6a1e04cb",
   "metadata": {},
   "outputs": [],
   "source": [
    "# Import all libraries\n",
    "\n",
    "import numpy as np\n",
    "from sklearn.cluster import DBSCAN\n",
    "import pandas as pd\n",
    "import matplotlib.pyplot as plt\n",
    "from contextlib import redirect_stdout"
   ]
  },
  {
   "cell_type": "code",
   "execution_count": 22,
   "id": "0f82ee8a",
   "metadata": {},
   "outputs": [
    {
     "data": {
      "text/plain": [
       "(10000, 6126, 3)"
      ]
     },
     "execution_count": 22,
     "metadata": {},
     "output_type": "execute_result"
    }
   ],
   "source": [
    "# Interesting Atoms as input\n",
    "\n",
    "filePath = r\"C:\\Users\\mhanowar\\OneDrive - Iowa State University\\Molecular Simulation Data\\convoy paper\\data\\dcd2-55k-65k-fixed.npy\"\n",
    "data = np.load(filePath)\n",
    "data.shape"
   ]
  },
  {
   "cell_type": "code",
   "execution_count": 23,
   "id": "30db1a52",
   "metadata": {},
   "outputs": [],
   "source": [
    "# Transpose the data for Convoy algorithm\n",
    "\n",
    "transposed_data = list()\n",
    "for x in range(len(data[1])):\n",
    "    \n",
    "    transposed_data.append(data[:,x,0:3].tolist())\n",
    "\n",
    "convoy_data = transposed_data\n"
   ]
  },
  {
   "cell_type": "code",
   "execution_count": 24,
   "id": "14ec7ac8",
   "metadata": {},
   "outputs": [
    {
     "data": {
      "text/plain": [
       "(6126, 10000, 3)"
      ]
     },
     "execution_count": 24,
     "metadata": {},
     "output_type": "execute_result"
    }
   ],
   "source": [
    "np.array(convoy_data).shape"
   ]
  },
  {
   "cell_type": "code",
   "execution_count": 25,
   "id": "6cea8c1d",
   "metadata": {},
   "outputs": [],
   "source": [
    "class ConvoyCandidate(object):\n",
    "    \"\"\"\n",
    "    Attributes:\n",
    "        indices(set): The object indices assigned to the convoy\n",
    "        is_assigned (bool):\n",
    "        start_time (int):  The start index of the convoy\n",
    "        end_time (int):  The last index of the convoy\n",
    "    \"\"\"\n",
    "    __slots__ = ('indices', 'is_assigned', 'start_time', 'end_time')\n",
    "\n",
    "    def __init__(self, indices, is_assigned, start_time, end_time):\n",
    "        self.indices = indices\n",
    "        self.is_assigned = is_assigned\n",
    "        self.start_time = start_time\n",
    "        self.end_time = end_time\n",
    "\n",
    "    def __repr__(self):\n",
    "        return '<%r %r indices=%r, is_assigned=%r, start_time=%r, end_time=%r>' % (self.__class__.__name__, id(self), self.indices, self.is_assigned, self.start_time, self.end_time)"
   ]
  },
  {
   "cell_type": "code",
   "execution_count": 26,
   "id": "ae451057",
   "metadata": {},
   "outputs": [],
   "source": [
    "class CMC(object):\n",
    "    \"\"\"Coherence Moving Cluster (CMC) algorithm\n",
    "\n",
    "    Attributes:\n",
    "        k (int):  Min number of consecutive timestamps to be considered a convoy\n",
    "        m (int):  Min number of elements to be considered a convoy\n",
    "    \"\"\"\n",
    "    def __init__(self, clf, k, m):\n",
    "        self.clf = clf\n",
    "        self.k = k\n",
    "        self.m = m\n",
    "\n",
    "    def fit_predict(self, X, y=None, sample_weight=None):\n",
    "        convoy_candidates = set()\n",
    "        columns = len(X[0])\n",
    "        column_iterator = range(columns)\n",
    "        output_convoys = []\n",
    "\n",
    "        for column in column_iterator:\n",
    "            current_convoy_candidates = set()\n",
    "            values = [row[column] if isinstance(row[column], (list, set)) else [row[column]] for row in X]\n",
    "            if len(values) < self.m:\n",
    "                continue\n",
    "            clusters = self.clf.fit_predict(values, y=y, sample_weight=sample_weight)\n",
    "            unique_clusters = set(clusters)\n",
    "            clusters_indices = dict((cluster, ConvoyCandidate(indices=set(), is_assigned=False, start_time=None, end_time=None)) for cluster in unique_clusters)\n",
    "\n",
    "            for index, cluster_assignment in enumerate(clusters):\n",
    "                clusters_indices[cluster_assignment].indices.add(index)\n",
    "\n",
    "            # update existing convoys\n",
    "            for convoy_candidate in convoy_candidates:\n",
    "                convoy_candidate_indices = convoy_candidate.indices\n",
    "                convoy_candidate.is_assigned = False\n",
    "                for cluster in unique_clusters:\n",
    "                    cluster_indices = clusters_indices[cluster].indices\n",
    "                    cluster_candidate_intersection = cluster_indices & convoy_candidate_indices\n",
    "                    if len(cluster_candidate_intersection) < self.m:\n",
    "                        continue\n",
    "                    convoy_candidate.indices = cluster_candidate_intersection\n",
    "                    current_convoy_candidates.add(convoy_candidate)\n",
    "                    convoy_candidate.end_time = column\n",
    "                    clusters_indices[cluster].is_assigned = convoy_candidate.is_assigned = True\n",
    "\n",
    "                # check if candidates qualify as convoys\n",
    "                candidate_life_time = (convoy_candidate.end_time - convoy_candidate.start_time) + 1\n",
    "                if (not convoy_candidate.is_assigned or column == column_iterator[-1]) and candidate_life_time >= self.k:\n",
    "                    output_convoys.append(convoy_candidate)\n",
    "\n",
    "            # create new candidates\n",
    "            for cluster in unique_clusters:\n",
    "                cluster_data = clusters_indices[cluster]\n",
    "                if cluster_data.is_assigned:\n",
    "                    continue\n",
    "                cluster_data.start_time = cluster_data.end_time = column\n",
    "                current_convoy_candidates.add(cluster_data)\n",
    "            convoy_candidates = current_convoy_candidates\n",
    "        return output_convoys"
   ]
  },
  {
   "cell_type": "code",
   "execution_count": 27,
   "id": "b2e319a7",
   "metadata": {},
   "outputs": [],
   "source": [
    "# Clustering using DBSCAN\n",
    "\n",
    "# distance parameter for clustering = eps\n",
    "\n",
    "cluster = DBSCAN(eps= 2.35)\n",
    "\n",
    "# cluster = DBSCAN(eps=9, min_samples=4).fit(data[0])\n",
    "\n",
    "# print(\"Number of Clusters = \", max(cluster.labels_)+1)\n"
   ]
  },
  {
   "cell_type": "code",
   "execution_count": 28,
   "id": "426fb0a7",
   "metadata": {},
   "outputs": [
    {
     "name": "stdout",
     "output_type": "stream",
     "text": [
      "Total number of Convoys = 5\n"
     ]
    }
   ],
   "source": [
    "# Convoy computation\n",
    "\n",
    "# Min cluster elements = m\n",
    "# Min consecutive timesteps = k\n",
    "\n",
    "clf = CMC(cluster, k=10, m=50)\n",
    "\n",
    "# Convoy calculation using Test data\n",
    "convoys = clf.fit_predict(convoy_data)\n",
    "print(\"Total number of Convoys =\", len(convoys))"
   ]
  },
  {
   "cell_type": "code",
   "execution_count": 29,
   "id": "715ef613",
   "metadata": {},
   "outputs": [],
   "source": [
    "# Saving the output\n",
    "\n",
    "file = open(\"output.txt\", \"w\")\n",
    "file.write(f\"Total number of Convoys: {len(convoys)}\\n\\n\")\n",
    "j = 1\n",
    "for convoy in convoys:\n",
    "    file.write(f\"Convoy ID {j} - No of elements: {len(convoy.indices)}, Elements ID: {convoy.indices}, Start Time:{convoy.start_time}, End Time: {convoy.end_time}\\n\\n\")\n",
    "    j = j+1\n",
    "#     for i in convoy.indices:\n",
    "#         print(f\"{i}, {data[i]}, - Start Time: {convoy.start_time}, End Time: {convoy.end_time}\")\n",
    "\n",
    "##     file.write('%r - S: %r, E: %r\\n' % (convoy.indices, convoy.start_time, convoy.end_time))\n",
    "file.close()"
   ]
  }
 ],
 "metadata": {
  "kernelspec": {
   "display_name": "Python 3",
   "language": "python",
   "name": "python3"
  },
  "language_info": {
   "codemirror_mode": {
    "name": "ipython",
    "version": 3
   },
   "file_extension": ".py",
   "mimetype": "text/x-python",
   "name": "python",
   "nbconvert_exporter": "python",
   "pygments_lexer": "ipython3",
   "version": "3.8.8"
  }
 },
 "nbformat": 4,
 "nbformat_minor": 5
}
