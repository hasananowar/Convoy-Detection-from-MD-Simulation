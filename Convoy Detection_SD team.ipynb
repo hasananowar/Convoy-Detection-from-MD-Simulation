{
 "cells": [
  {
   "cell_type": "code",
   "execution_count": 1,
   "id": "6a1e04cb",
   "metadata": {},
   "outputs": [],
   "source": [
    "# Import all libraries\n",
    "\n",
    "import numpy as np\n",
    "from sklearn.cluster import DBSCAN\n",
    "import pandas as pd\n",
    "import matplotlib.pyplot as plt\n",
    "from contextlib import redirect_stdout"
   ]
  },
  {
   "cell_type": "code",
   "execution_count": 2,
   "id": "0f82ee8a",
   "metadata": {},
   "outputs": [
    {
     "data": {
      "text/plain": [
       "(10000, 6126, 3)"
      ]
     },
     "execution_count": 2,
     "metadata": {},
     "output_type": "execute_result"
    }
   ],
   "source": [
    "# Interesting Atoms as input\n",
    "\n",
    "filePath = r\"C:\\Users\\mhanowar\\OneDrive - Iowa State University\\Molecular Simulation Data\\convoy paper\\data\\dcd2-55k-65k-fixed.npy\"\n",
    "data = np.load(filePath)\n",
    "data.shape"
   ]
  },
  {
   "cell_type": "code",
   "execution_count": 3,
   "id": "4ca19a52",
   "metadata": {},
   "outputs": [
    {
     "data": {
      "text/plain": [
       "array([[[12.75989151,  2.25370884, 33.2609024 ],\n",
       "        [12.86261272,  3.58145547, 34.02394867],\n",
       "        [11.45754814,  4.32181692, 34.00331497],\n",
       "        ...,\n",
       "        [20.08975792, 57.91249466, 55.13398743],\n",
       "        [22.04228401, 60.42287827, 57.92678833],\n",
       "        [20.99219894, 58.36291122, 57.42606735]],\n",
       "\n",
       "       [[13.43875885,  2.64563727, 33.69277573],\n",
       "        [13.30926132,  3.9993763 , 34.36885834],\n",
       "        [11.91111755,  4.54812336, 34.1012001 ],\n",
       "        ...,\n",
       "        [20.59513664, 58.44548416, 53.6669693 ],\n",
       "        [22.48403168, 60.87232208, 56.73421478],\n",
       "        [21.80195427, 58.67257309, 55.99963379]],\n",
       "\n",
       "       [[12.57370472,  2.49754333, 33.2800293 ],\n",
       "        [12.60299397,  3.86189485, 34.03574753],\n",
       "        [11.30879116,  4.68238401, 33.93730927],\n",
       "        ...,\n",
       "        [21.86590576, 59.23035812, 53.45789719],\n",
       "        [22.10702133, 62.1145134 , 56.61235046],\n",
       "        [22.27451134, 59.72999954, 55.92777634]],\n",
       "\n",
       "       ...,\n",
       "\n",
       "       [[12.79883766,  2.00090075, 33.65203476],\n",
       "        [12.80395508,  3.26761055, 34.48125839],\n",
       "        [11.4910841 ,  4.07874155, 34.2360611 ],\n",
       "        ...,\n",
       "        [15.89643002, 64.05175018, 36.08069611],\n",
       "        [16.46781731, 68.01626587, 37.80522537],\n",
       "        [15.16618633, 66.58133698, 36.31503296]],\n",
       "\n",
       "       [[13.29418087,  2.46884608, 33.80419159],\n",
       "        [13.34879589,  3.68059945, 34.67082214],\n",
       "        [11.99315834,  4.35647917, 34.57761002],\n",
       "        ...,\n",
       "        [16.53979301, 65.04095459, 35.55992508],\n",
       "        [16.6864872 , 68.28985596, 38.28148651],\n",
       "        [15.69712162, 67.18969727, 36.37494659]],\n",
       "\n",
       "       [[13.44002151,  2.66179752, 33.9376564 ],\n",
       "        [13.41239357,  3.87935805, 34.86313248],\n",
       "        [12.08944702,  4.79071617, 34.61868668],\n",
       "        ...,\n",
       "        [15.61813736, 63.77342606, 36.37885666],\n",
       "        [17.10559845, 67.75416565, 36.62505341],\n",
       "        [15.35138702, 66.10487366, 35.90616226]]])"
      ]
     },
     "execution_count": 3,
     "metadata": {},
     "output_type": "execute_result"
    }
   ],
   "source": [
    "data"
   ]
  },
  {
   "cell_type": "code",
   "execution_count": 4,
   "id": "30db1a52",
   "metadata": {},
   "outputs": [],
   "source": [
    "# Transpose the data for Convoy algorithm\n",
    "\n",
    "transposed_data = list()\n",
    "for x in range(len(data[1])):\n",
    "    \n",
    "    transposed_data.append(data[:,x,0:3].tolist())\n",
    "\n",
    "convoy_data = transposed_data\n"
   ]
  },
  {
   "cell_type": "code",
   "execution_count": 5,
   "id": "1a868749",
   "metadata": {},
   "outputs": [
    {
     "data": {
      "text/plain": [
       "(6126, 10000, 3)"
      ]
     },
     "execution_count": 5,
     "metadata": {},
     "output_type": "execute_result"
    }
   ],
   "source": [
    "# View Data Shape\n",
    "check_convoy_data = np.array(convoy_data)\n",
    "check_convoy_data.shape"
   ]
  },
  {
   "cell_type": "code",
   "execution_count": 6,
   "id": "8f6ef821",
   "metadata": {},
   "outputs": [
    {
     "data": {
      "text/plain": [
       "array([[[12.75989151,  2.25370884, 33.2609024 ],\n",
       "        [13.43875885,  2.64563727, 33.69277573],\n",
       "        [12.57370472,  2.49754333, 33.2800293 ],\n",
       "        ...,\n",
       "        [12.79883766,  2.00090075, 33.65203476],\n",
       "        [13.29418087,  2.46884608, 33.80419159],\n",
       "        [13.44002151,  2.66179752, 33.9376564 ]],\n",
       "\n",
       "       [[12.86261272,  3.58145547, 34.02394867],\n",
       "        [13.30926132,  3.9993763 , 34.36885834],\n",
       "        [12.60299397,  3.86189485, 34.03574753],\n",
       "        ...,\n",
       "        [12.80395508,  3.26761055, 34.48125839],\n",
       "        [13.34879589,  3.68059945, 34.67082214],\n",
       "        [13.41239357,  3.87935805, 34.86313248]],\n",
       "\n",
       "       [[11.45754814,  4.32181692, 34.00331497],\n",
       "        [11.91111755,  4.54812336, 34.1012001 ],\n",
       "        [11.30879116,  4.68238401, 33.93730927],\n",
       "        ...,\n",
       "        [11.4910841 ,  4.07874155, 34.2360611 ],\n",
       "        [11.99315834,  4.35647917, 34.57761002],\n",
       "        [12.08944702,  4.79071617, 34.61868668]],\n",
       "\n",
       "       ...,\n",
       "\n",
       "       [[20.08975792, 57.91249466, 55.13398743],\n",
       "        [20.59513664, 58.44548416, 53.6669693 ],\n",
       "        [21.86590576, 59.23035812, 53.45789719],\n",
       "        ...,\n",
       "        [15.89643002, 64.05175018, 36.08069611],\n",
       "        [16.53979301, 65.04095459, 35.55992508],\n",
       "        [15.61813736, 63.77342606, 36.37885666]],\n",
       "\n",
       "       [[22.04228401, 60.42287827, 57.92678833],\n",
       "        [22.48403168, 60.87232208, 56.73421478],\n",
       "        [22.10702133, 62.1145134 , 56.61235046],\n",
       "        ...,\n",
       "        [16.46781731, 68.01626587, 37.80522537],\n",
       "        [16.6864872 , 68.28985596, 38.28148651],\n",
       "        [17.10559845, 67.75416565, 36.62505341]],\n",
       "\n",
       "       [[20.99219894, 58.36291122, 57.42606735],\n",
       "        [21.80195427, 58.67257309, 55.99963379],\n",
       "        [22.27451134, 59.72999954, 55.92777634],\n",
       "        ...,\n",
       "        [15.16618633, 66.58133698, 36.31503296],\n",
       "        [15.69712162, 67.18969727, 36.37494659],\n",
       "        [15.35138702, 66.10487366, 35.90616226]]])"
      ]
     },
     "execution_count": 6,
     "metadata": {},
     "output_type": "execute_result"
    }
   ],
   "source": [
    "check_convoy_data"
   ]
  },
  {
   "cell_type": "code",
   "execution_count": 7,
   "id": "7dac8253",
   "metadata": {},
   "outputs": [],
   "source": []
  },
  {
   "cell_type": "code",
   "execution_count": 8,
   "id": "6cea8c1d",
   "metadata": {},
   "outputs": [],
   "source": [
    "class ConvoyCandidate(object):\n",
    "    \"\"\"\n",
    "    Attributes:\n",
    "        indices(set): The object indices assigned to the convoy\n",
    "        is_assigned (bool):\n",
    "        start_time (int):  The start index of the convoy\n",
    "        end_time (int):  The last index of the convoy\n",
    "    \"\"\"\n",
    "    __slots__ = ('indices', 'is_assigned', 'start_time', 'end_time')\n",
    "\n",
    "    def __init__(self, indices, is_assigned, start_time, end_time):\n",
    "        self.indices = indices\n",
    "        self.is_assigned = is_assigned\n",
    "        self.start_time = start_time\n",
    "        self.end_time = end_time\n",
    "\n",
    "    def __repr__(self):\n",
    "        return '<%r %r indices=%r, is_assigned=%r, start_time=%r, end_time=%r>' % (self.__class__.__name__, id(self), self.indices, self.is_assigned, self.start_time, self.end_time)"
   ]
  },
  {
   "cell_type": "code",
   "execution_count": 9,
   "id": "ae451057",
   "metadata": {},
   "outputs": [],
   "source": [
    "class CMC(object):\n",
    "    \"\"\"Coherence Moving Cluster (CMC) algorithm\n",
    "\n",
    "    Attributes:\n",
    "        k (int):  Min number of consecutive timestamps to be considered a convoy\n",
    "        m (int):  Min number of elements to be considered a convoy\n",
    "    \"\"\"\n",
    "    def __init__(self, clf, k, m):\n",
    "        self.clf = clf\n",
    "        self.k = k\n",
    "        self.m = m\n",
    "\n",
    "    def fit_predict(self, X, y=None, sample_weight=None):\n",
    "        convoy_candidates = set()\n",
    "        columns = len(X[0])\n",
    "        column_iterator = range(columns)\n",
    "        output_convoys = []\n",
    "\n",
    "        for column in column_iterator:\n",
    "            current_convoy_candidates = set()\n",
    "            values = [row[column] if isinstance(row[column], (list, set)) else [row[column]] for row in X]\n",
    "            if len(values) < self.m:\n",
    "                continue\n",
    "            clusters = self.clf.fit_predict(values, y=y, sample_weight=sample_weight)\n",
    "            unique_clusters = set(clusters)\n",
    "            clusters_indices = dict((cluster, ConvoyCandidate(indices=set(), is_assigned=False, start_time=None, end_time=None)) for cluster in unique_clusters)\n",
    "\n",
    "            for index, cluster_assignment in enumerate(clusters):\n",
    "                clusters_indices[cluster_assignment].indices.add(index)\n",
    "\n",
    "            # update existing convoys\n",
    "            for convoy_candidate in convoy_candidates:\n",
    "                convoy_candidate_indices = convoy_candidate.indices\n",
    "                convoy_candidate.is_assigned = False\n",
    "                for cluster in unique_clusters:\n",
    "                    cluster_indices = clusters_indices[cluster].indices\n",
    "                    cluster_candidate_intersection = cluster_indices & convoy_candidate_indices\n",
    "                    if len(cluster_candidate_intersection) < self.m:\n",
    "                        continue\n",
    "                    convoy_candidate.indices = cluster_candidate_intersection\n",
    "                    current_convoy_candidates.add(convoy_candidate)\n",
    "                    convoy_candidate.end_time = column\n",
    "                    clusters_indices[cluster].is_assigned = convoy_candidate.is_assigned = True\n",
    "\n",
    "                # check if candidates qualify as convoys\n",
    "                candidate_life_time = (convoy_candidate.end_time - convoy_candidate.start_time) + 1\n",
    "                if (not convoy_candidate.is_assigned or column == column_iterator[-1]) and candidate_life_time >= self.k:\n",
    "                    output_convoys.append(convoy_candidate)\n",
    "\n",
    "            # create new candidates\n",
    "            for cluster in unique_clusters:\n",
    "                cluster_data = clusters_indices[cluster]\n",
    "                if cluster_data.is_assigned:\n",
    "                    continue\n",
    "                cluster_data.start_time = cluster_data.end_time = column\n",
    "                current_convoy_candidates.add(cluster_data)\n",
    "            convoy_candidates = current_convoy_candidates\n",
    "        return output_convoys"
   ]
  },
  {
   "cell_type": "code",
   "execution_count": 10,
   "id": "b2e319a7",
   "metadata": {},
   "outputs": [],
   "source": [
    "# Clustering using DBSCAN\n",
    "# distance parameter for clustering = eps\n",
    "\n",
    "clustering_clf = DBSCAN(eps= 2.35)\n",
    "\n",
    "# cluster = DBSCAN(eps=9, min_samples=4).fit(data[0])\n",
    "\n",
    "# print(\"Number of Clusters = \", max(cluster.labels_)+1)\n"
   ]
  },
  {
   "cell_type": "code",
   "execution_count": 11,
   "id": "426fb0a7",
   "metadata": {},
   "outputs": [
    {
     "name": "stdout",
     "output_type": "stream",
     "text": [
      "Total number of Convoys = 10\n"
     ]
    }
   ],
   "source": [
    "# Convoy computation\n",
    "\n",
    "# Min elements for convoy = m\n",
    "# Min consecutive timesteps = k\n",
    "\n",
    "clf = CMC(clustering_clf, k=10, m=3)\n",
    "\n",
    "# Convoy calculation using Test data\n",
    "convoys = clf.fit_predict(convoy_data)\n",
    "print(\"Total number of Convoys =\", len(convoys))"
   ]
  },
  {
   "cell_type": "code",
   "execution_count": 12,
   "id": "715ef613",
   "metadata": {},
   "outputs": [],
   "source": [
    "# Saving the output\n",
    "\n",
    "file = open(\"output.txt\", \"w\")\n",
    "file.write(f\"Total number of Convoys: {len(convoys)}\\n\")\n",
    "j = 0\n",
    "for convoy in convoys:\n",
    "    file.write(f\"{j}. No of elements: {len(convoy.indices)}, Elements ID: {convoy.indices}, Start Time:{convoy.start_time}, End Time: {convoy.end_time}\\n\")\n",
    "    j = j+1\n",
    "#     for i in convoy.indices:\n",
    "#         print(f\"{i}, {data[i]}, - Start Time: {convoy.start_time}, End Time: {convoy.end_time}\")\n",
    "\n",
    "##     file.write('%r - S: %r, E: %r\\n' % (convoy.indices, convoy.start_time, convoy.end_time))\n",
    "file.close()"
   ]
  }
 ],
 "metadata": {
  "kernelspec": {
   "display_name": "Python 3",
   "language": "python",
   "name": "python3"
  },
  "language_info": {
   "codemirror_mode": {
    "name": "ipython",
    "version": 3
   },
   "file_extension": ".py",
   "mimetype": "text/x-python",
   "name": "python",
   "nbconvert_exporter": "python",
   "pygments_lexer": "ipython3",
   "version": "3.8.8"
  }
 },
 "nbformat": 4,
 "nbformat_minor": 5
}
