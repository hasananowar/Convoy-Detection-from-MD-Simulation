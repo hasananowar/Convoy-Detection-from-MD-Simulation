{
 "cells": [
  {
   "cell_type": "code",
   "execution_count": 3,
   "id": "6a1e04cb",
   "metadata": {},
   "outputs": [],
   "source": [
    "import numpy as np\n",
    "from sklearn.cluster import DBSCAN\n",
    "import pandas as pd"
   ]
  },
  {
   "cell_type": "code",
   "execution_count": 4,
   "id": "0f82ee8a",
   "metadata": {},
   "outputs": [
    {
     "ename": "FileNotFoundError",
     "evalue": "[Errno 2] No such file or directory: 'C:\\\\Users\\\\mhanowar\\\\Box\\\\Shared Materials_Abdullah_Hasan\\\\Abdullah Data\\\\ring_centers.npy'",
     "output_type": "error",
     "traceback": [
      "\u001b[1;31m---------------------------------------------------------------------------\u001b[0m",
      "\u001b[1;31mFileNotFoundError\u001b[0m                         Traceback (most recent call last)",
      "\u001b[1;32m<ipython-input-4-96d20f1cc077>\u001b[0m in \u001b[0;36m<module>\u001b[1;34m\u001b[0m\n\u001b[0;32m      1\u001b[0m \u001b[0mfilePath\u001b[0m \u001b[1;33m=\u001b[0m \u001b[1;34mr\"C:\\Users\\mhanowar\\Box\\Shared Materials_Abdullah_Hasan\\Abdullah Data\\ring_centers.npy\"\u001b[0m\u001b[1;33m\u001b[0m\u001b[1;33m\u001b[0m\u001b[0m\n\u001b[1;32m----> 2\u001b[1;33m \u001b[0mdata\u001b[0m \u001b[1;33m=\u001b[0m \u001b[0mnp\u001b[0m\u001b[1;33m.\u001b[0m\u001b[0mload\u001b[0m\u001b[1;33m(\u001b[0m\u001b[0mfilePath\u001b[0m\u001b[1;33m)\u001b[0m\u001b[1;33m\u001b[0m\u001b[1;33m\u001b[0m\u001b[0m\n\u001b[0m\u001b[0;32m      3\u001b[0m \u001b[1;31m# data = data[:2000]\u001b[0m\u001b[1;33m\u001b[0m\u001b[1;33m\u001b[0m\u001b[1;33m\u001b[0m\u001b[0m\n\u001b[0;32m      4\u001b[0m \u001b[1;33m\u001b[0m\u001b[0m\n\u001b[0;32m      5\u001b[0m \u001b[0mdata1\u001b[0m \u001b[1;33m=\u001b[0m \u001b[0mlist\u001b[0m\u001b[1;33m(\u001b[0m\u001b[1;33m)\u001b[0m\u001b[1;33m\u001b[0m\u001b[1;33m\u001b[0m\u001b[0m\n",
      "\u001b[1;32m~\\Anaconda3\\lib\\site-packages\\numpy\\lib\\npyio.py\u001b[0m in \u001b[0;36mload\u001b[1;34m(file, mmap_mode, allow_pickle, fix_imports, encoding)\u001b[0m\n\u001b[0;32m    415\u001b[0m             \u001b[0mown_fid\u001b[0m \u001b[1;33m=\u001b[0m \u001b[1;32mFalse\u001b[0m\u001b[1;33m\u001b[0m\u001b[1;33m\u001b[0m\u001b[0m\n\u001b[0;32m    416\u001b[0m         \u001b[1;32melse\u001b[0m\u001b[1;33m:\u001b[0m\u001b[1;33m\u001b[0m\u001b[1;33m\u001b[0m\u001b[0m\n\u001b[1;32m--> 417\u001b[1;33m             \u001b[0mfid\u001b[0m \u001b[1;33m=\u001b[0m \u001b[0mstack\u001b[0m\u001b[1;33m.\u001b[0m\u001b[0menter_context\u001b[0m\u001b[1;33m(\u001b[0m\u001b[0mopen\u001b[0m\u001b[1;33m(\u001b[0m\u001b[0mos_fspath\u001b[0m\u001b[1;33m(\u001b[0m\u001b[0mfile\u001b[0m\u001b[1;33m)\u001b[0m\u001b[1;33m,\u001b[0m \u001b[1;34m\"rb\"\u001b[0m\u001b[1;33m)\u001b[0m\u001b[1;33m)\u001b[0m\u001b[1;33m\u001b[0m\u001b[1;33m\u001b[0m\u001b[0m\n\u001b[0m\u001b[0;32m    418\u001b[0m             \u001b[0mown_fid\u001b[0m \u001b[1;33m=\u001b[0m \u001b[1;32mTrue\u001b[0m\u001b[1;33m\u001b[0m\u001b[1;33m\u001b[0m\u001b[0m\n\u001b[0;32m    419\u001b[0m \u001b[1;33m\u001b[0m\u001b[0m\n",
      "\u001b[1;31mFileNotFoundError\u001b[0m: [Errno 2] No such file or directory: 'C:\\\\Users\\\\mhanowar\\\\Box\\\\Shared Materials_Abdullah_Hasan\\\\Abdullah Data\\\\ring_centers.npy'"
     ]
    }
   ],
   "source": [
    "filePath = r\"C:\\Users\\mhanowar\\Box\\Shared Materials_Abdullah_Hasan\\Abdullah Data\\ring_centers.npy\"\n",
    "data = np.load(filePath)\n",
    "# data = data[:2000]\n",
    "\n",
    "data1 = list()\n",
    "for x in range(236):\n",
    "    \n",
    "    data1.append(data[:,x,0:3].tolist())\n",
    "\n",
    "data = data1\n",
    "# data.shape"
   ]
  },
  {
   "cell_type": "code",
   "execution_count": null,
   "id": "cd38a435",
   "metadata": {},
   "outputs": [],
   "source": [
    "# data = np.load(filePath)\n",
    "# data[:,x,0:3].tolist()"
   ]
  },
  {
   "cell_type": "code",
   "execution_count": null,
   "id": "6a267293",
   "metadata": {},
   "outputs": [],
   "source": [
    "# data"
   ]
  },
  {
   "cell_type": "code",
   "execution_count": null,
   "id": "201428d9",
   "metadata": {},
   "outputs": [],
   "source": [
    "# data = np.load(filePath)\n",
    "# data[:2].shape"
   ]
  },
  {
   "cell_type": "code",
   "execution_count": null,
   "id": "85eb7ea1",
   "metadata": {},
   "outputs": [],
   "source": [
    "# data"
   ]
  },
  {
   "cell_type": "code",
   "execution_count": null,
   "id": "cebc947e",
   "metadata": {},
   "outputs": [],
   "source": [
    "# data1"
   ]
  },
  {
   "cell_type": "code",
   "execution_count": null,
   "id": "d1b9f4d0",
   "metadata": {},
   "outputs": [],
   "source": [
    "# np.reshape(data[:2], (236, 2, 3))a"
   ]
  },
  {
   "cell_type": "code",
   "execution_count": null,
   "id": "06095147",
   "metadata": {},
   "outputs": [],
   "source": [
    "# data"
   ]
  },
  {
   "cell_type": "code",
   "execution_count": null,
   "id": "6cea8c1d",
   "metadata": {},
   "outputs": [],
   "source": [
    "class ConvoyCandidate(object):\n",
    "    \"\"\"\n",
    "    Attributes:\n",
    "        indices(set): The object indices assigned to the convoy\n",
    "        is_assigned (bool):\n",
    "        start_time (int):  The start index of the convoy\n",
    "        end_time (int):  The last index of the convoy\n",
    "    \"\"\"\n",
    "    __slots__ = ('indices', 'is_assigned', 'start_time', 'end_time')\n",
    "\n",
    "    def __init__(self, indices, is_assigned, start_time, end_time):\n",
    "        self.indices = indices\n",
    "        self.is_assigned = is_assigned\n",
    "        self.start_time = start_time\n",
    "        self.end_time = end_time\n",
    "\n",
    "    def __repr__(self):\n",
    "        return '<%r %r indices=%r, is_assigned=%r, start_time=%r, end_time=%r>' % (self.__class__.__name__, id(self), self.indices, self.is_assigned, self.start_time, self.end_time)"
   ]
  },
  {
   "cell_type": "code",
   "execution_count": null,
   "id": "ae451057",
   "metadata": {},
   "outputs": [],
   "source": [
    "class CMC(object):\n",
    "    \"\"\"Coherence Moving Cluster (CMC) algorithm\n",
    "\n",
    "    Attributes:\n",
    "        k (int):  Min number of consecutive timestamps to be considered a convoy\n",
    "        m (int):  Min number of elements to be considered a convoy\n",
    "    \"\"\"\n",
    "    def __init__(self, clf, k, m):\n",
    "        self.clf = clf\n",
    "        self.k = k\n",
    "        self.m = m\n",
    "\n",
    "    def fit_predict(self, X, y=None, sample_weight=None):\n",
    "        convoy_candidates = set()\n",
    "        columns = len(X[0])\n",
    "        column_iterator = range(columns)\n",
    "        output_convoys = []\n",
    "\n",
    "        for column in column_iterator:\n",
    "            current_convoy_candidates = set()\n",
    "            values = [row[column] if isinstance(row[column], (list, set)) else [row[column]] for row in X]\n",
    "            if len(values) < self.m:\n",
    "                continue\n",
    "            clusters = self.clf.fit_predict(values, y=y, sample_weight=sample_weight)\n",
    "            unique_clusters = set(clusters)\n",
    "            clusters_indices = dict((cluster, ConvoyCandidate(indices=set(), is_assigned=False, start_time=None, end_time=None)) for cluster in unique_clusters)\n",
    "\n",
    "            for index, cluster_assignment in enumerate(clusters):\n",
    "                clusters_indices[cluster_assignment].indices.add(index)\n",
    "\n",
    "            # update existing convoys\n",
    "            for convoy_candidate in convoy_candidates:\n",
    "                convoy_candidate_indices = convoy_candidate.indices\n",
    "                convoy_candidate.is_assigned = False\n",
    "                for cluster in unique_clusters:\n",
    "                    cluster_indices = clusters_indices[cluster].indices\n",
    "                    cluster_candidate_intersection = cluster_indices & convoy_candidate_indices\n",
    "                    if len(cluster_candidate_intersection) < self.m:\n",
    "                        continue\n",
    "                    convoy_candidate.indices = cluster_candidate_intersection\n",
    "                    current_convoy_candidates.add(convoy_candidate)\n",
    "                    convoy_candidate.end_time = column\n",
    "                    clusters_indices[cluster].is_assigned = convoy_candidate.is_assigned = True\n",
    "\n",
    "                # check if candidates qualify as convoys\n",
    "                candidate_life_time = (convoy_candidate.end_time - convoy_candidate.start_time) + 1\n",
    "                if (not convoy_candidate.is_assigned or column == column_iterator[-1]) and candidate_life_time >= self.k:\n",
    "                    output_convoys.append(convoy_candidate)\n",
    "\n",
    "            # create new candidates\n",
    "            for cluster in unique_clusters:\n",
    "                cluster_data = clusters_indices[cluster]\n",
    "                if cluster_data.is_assigned:\n",
    "                    continue\n",
    "                cluster_data.start_time = cluster_data.end_time = column\n",
    "                current_convoy_candidates.add(cluster_data)\n",
    "            convoy_candidates = current_convoy_candidates\n",
    "        return output_convoys"
   ]
  },
  {
   "cell_type": "code",
   "execution_count": null,
   "id": "16f6f559",
   "metadata": {},
   "outputs": [],
   "source": [
    "# clustering = DBSCAN(eps=2,min_samples=2).fit_predict(test_data)\n",
    "# print(clustering)\n",
    "\n",
    "data = ([[1,1],[25,4],[54,3]],\n",
    "        [[3,1],[4,2],[5,1]],\n",
    "        [[3,2],[6,2],[5,3]],\n",
    "        [[3,3],[5,2],[5,3]],\n",
    "        [[51,1],[51,2],[56,3]])\n",
    "\n",
    "# data = ([[936], [1870], [2814], [3719], [4601]],\n",
    "#              [[939], [1873], [2817], [3750], [4525]],\n",
    "#              [[943], [1877], [2825], [3741], [4236]],\n",
    "#              [[946], [1879], [2826], [3762], [4947]])\n"
   ]
  },
  {
   "cell_type": "code",
   "execution_count": null,
   "id": "b2e319a7",
   "metadata": {},
   "outputs": [],
   "source": [
    "# Clustering using DBSCAN\n",
    "clustering_clf = DBSCAN(eps=2, min_samples=2)"
   ]
  },
  {
   "cell_type": "code",
   "execution_count": null,
   "id": "348a47f5",
   "metadata": {},
   "outputs": [],
   "source": [
    "# data = data.tolist()"
   ]
  },
  {
   "cell_type": "code",
   "execution_count": null,
   "id": "88f3dc7d",
   "metadata": {},
   "outputs": [],
   "source": [
    "# data.shape"
   ]
  },
  {
   "cell_type": "code",
   "execution_count": null,
   "id": "54262783",
   "metadata": {},
   "outputs": [],
   "source": [
    "# # # # Test data of 3D Coordinates\n",
    "# # # # Elements (Molecules) are in row, timesteps are in column\n",
    "\n",
    "# data = ([[3,1,3],[3,2,4],[2,4,5]],\n",
    "#         [[4,2,2],[6,2,3],[4,4,5]],\n",
    "#         [[1,1,3],[51,2,-1],[55,3,0]],\n",
    "#         [[51,2,1],[52,2,4],[56,-3, 2]])"
   ]
  },
  {
   "cell_type": "code",
   "execution_count": null,
   "id": "426fb0a7",
   "metadata": {},
   "outputs": [],
   "source": [
    "# Min elements for convoy = m\n",
    "# Min consecutive timesteps = k\n",
    "\n",
    "clf = CMC(clustering_clf, k=3, m=2)\n",
    "\n",
    "# Convoy calculation using Test data\n",
    "convoys = clf.fit_predict(data)\n",
    "file = open(\"output.txt\", \"w\")\n",
    "for convoy in convoys:\n",
    "    print('Detected Convoy')\n",
    "#     for i in convoy.indices:\n",
    "#         print('%i: %r - Start Time: %r, End Time: %r' % (i, data[i], convoy.start_time, convoy.end_time))\n",
    "    print(convoy)\n",
    "#     file.write('%r - S: %r, E: %r\\n' % (convoy.indices, convoy.start_time, convoy.end_time))\n",
    "#     file.write(str(convoy.start_time))\n",
    "#     file.write(str(convoy.end_time))\n",
    "# file.close()"
   ]
  },
  {
   "cell_type": "code",
   "execution_count": null,
   "id": "26ac2a40",
   "metadata": {},
   "outputs": [],
   "source": [
    "data = np.load(filePath)"
   ]
  },
  {
   "cell_type": "code",
   "execution_count": null,
   "id": "8f4281e0",
   "metadata": {},
   "outputs": [],
   "source": [
    "df1 = pd.DataFrame()\n",
    "for x in range(236):\n",
    "    df = pd.DataFrame(data[:50,x,:])\n",
    "    df[\"obj_id\"] = x\n",
    "    df[\"t\"] = range(50)\n",
    "    df = df.rename(columns={0: \"x\", 1: \"y\", 2: \"z\"})\n",
    "    df = df[[\"obj_id\", \"t\", \"x\", \"y\", \"z\"]]\n",
    "    df1 = pd.concat([df1, df])\n",
    "\n",
    "df1 = df1.reset_index(drop=True)"
   ]
  },
  {
   "cell_type": "code",
   "execution_count": null,
   "id": "71775e5c",
   "metadata": {},
   "outputs": [],
   "source": [
    "df1"
   ]
  },
  {
   "cell_type": "code",
   "execution_count": null,
   "id": "eb7c3504",
   "metadata": {},
   "outputs": [],
   "source": [
    "df1.to_csv(r\"C:\\Users\\ashamail\\Desktop\\Coherent-Moving-Cluster\\PythonSource\\resource\\data2-50.csv\", index=False)"
   ]
  },
  {
   "cell_type": "code",
   "execution_count": null,
   "id": "1f3d769e",
   "metadata": {},
   "outputs": [],
   "source": [
    "df1[:11800]"
   ]
  },
  {
   "cell_type": "code",
   "execution_count": null,
   "id": "c7e743dc",
   "metadata": {},
   "outputs": [],
   "source": []
  }
 ],
 "metadata": {
  "kernelspec": {
   "display_name": "Python 3",
   "language": "python",
   "name": "python3"
  },
  "language_info": {
   "codemirror_mode": {
    "name": "ipython",
    "version": 3
   },
   "file_extension": ".py",
   "mimetype": "text/x-python",
   "name": "python",
   "nbconvert_exporter": "python",
   "pygments_lexer": "ipython3",
   "version": "3.8.8"
  }
 },
 "nbformat": 4,
 "nbformat_minor": 5
}
