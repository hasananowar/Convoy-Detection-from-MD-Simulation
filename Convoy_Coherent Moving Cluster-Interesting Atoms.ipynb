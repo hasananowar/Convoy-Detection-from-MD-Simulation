{
 "cells": [
  {
   "cell_type": "code",
   "execution_count": 21,
   "id": "6a1e04cb",
   "metadata": {},
   "outputs": [],
   "source": [
    "# Import all libraries\n",
    "\n",
    "import numpy as np\n",
    "from sklearn.cluster import DBSCAN\n",
    "import pandas as pd\n",
    "import matplotlib.pyplot as plt"
   ]
  },
  {
   "cell_type": "code",
   "execution_count": 22,
   "id": "0f82ee8a",
   "metadata": {},
   "outputs": [
    {
     "data": {
      "text/plain": [
       "(10000, 6126, 3)"
      ]
     },
     "execution_count": 22,
     "metadata": {},
     "output_type": "execute_result"
    }
   ],
   "source": [
    "# Interesting Atoms as input\n",
    "\n",
    "filePath = r\"C:\\Users\\mhanowar\\Box\\Iowa State Research\\Shared Materials_Abdullah_Hasan\\Convoy Detection\\Data\\traj2-55k-65k.npy\"\n",
    "data = np.load(filePath)\n",
    "data.shape"
   ]
  },
  {
   "cell_type": "code",
   "execution_count": 23,
   "id": "9c3fbff7",
   "metadata": {},
   "outputs": [],
   "source": [
    "# View Data Shape\n",
    "# data = data[:200000]\n",
    "# data = np.array(data)\n",
    "# data.shape"
   ]
  },
  {
   "cell_type": "code",
   "execution_count": 24,
   "id": "30db1a52",
   "metadata": {},
   "outputs": [],
   "source": [
    "# Transpose the data for Convoy algorithm\n",
    "\n",
    "transposed_data = list()\n",
    "for x in range(len(data[1])):\n",
    "    \n",
    "    transposed_data.append(data[:,x,0:3].tolist())\n",
    "\n",
    "convoy_data = transposed_data\n",
    "#convoy_data"
   ]
  },
  {
   "cell_type": "code",
   "execution_count": 25,
   "id": "7dac8253",
   "metadata": {},
   "outputs": [],
   "source": [
    "# cluster = DBSCAN(eps=9, min_samples=4).fit(data[0])\n",
    "\n",
    "# print(\"Number of Clusters = \", max(cluster.labels_)+1)"
   ]
  },
  {
   "cell_type": "code",
   "execution_count": 26,
   "id": "6cea8c1d",
   "metadata": {},
   "outputs": [],
   "source": [
    "class ConvoyCandidate(object):\n",
    "    \"\"\"\n",
    "    Attributes:\n",
    "        indices(set): The object indices assigned to the convoy\n",
    "        is_assigned (bool):\n",
    "        start_time (int):  The start index of the convoy\n",
    "        end_time (int):  The last index of the convoy\n",
    "    \"\"\"\n",
    "    __slots__ = ('indices', 'is_assigned', 'start_time', 'end_time')\n",
    "\n",
    "    def __init__(self, indices, is_assigned, start_time, end_time):\n",
    "        self.indices = indices\n",
    "        self.is_assigned = is_assigned\n",
    "        self.start_time = start_time\n",
    "        self.end_time = end_time\n",
    "\n",
    "    def __repr__(self):\n",
    "        return '<%r %r indices=%r, is_assigned=%r, start_time=%r, end_time=%r>' % (self.__class__.__name__, id(self), self.indices, self.is_assigned, self.start_time, self.end_time)"
   ]
  },
  {
   "cell_type": "code",
   "execution_count": 27,
   "id": "ae451057",
   "metadata": {},
   "outputs": [],
   "source": [
    "class CMC(object):\n",
    "    \"\"\"Coherence Moving Cluster (CMC) algorithm\n",
    "\n",
    "    Attributes:\n",
    "        k (int):  Min number of consecutive timestamps to be considered a convoy\n",
    "        m (int):  Min number of elements to be considered a convoy\n",
    "    \"\"\"\n",
    "    def __init__(self, clf, k, m):\n",
    "        self.clf = clf\n",
    "        self.k = k\n",
    "        self.m = m\n",
    "\n",
    "    def fit_predict(self, X, y=None, sample_weight=None):\n",
    "        convoy_candidates = set()\n",
    "        columns = len(X[0])\n",
    "        column_iterator = range(columns)\n",
    "        output_convoys = []\n",
    "\n",
    "        for column in column_iterator:\n",
    "            current_convoy_candidates = set()\n",
    "            values = [row[column] if isinstance(row[column], (list, set)) else [row[column]] for row in X]\n",
    "            if len(values) < self.m:\n",
    "                continue\n",
    "            clusters = self.clf.fit_predict(values, y=y, sample_weight=sample_weight)\n",
    "            unique_clusters = set(clusters)\n",
    "            clusters_indices = dict((cluster, ConvoyCandidate(indices=set(), is_assigned=False, start_time=None, end_time=None)) for cluster in unique_clusters)\n",
    "\n",
    "            for index, cluster_assignment in enumerate(clusters):\n",
    "                clusters_indices[cluster_assignment].indices.add(index)\n",
    "\n",
    "            # update existing convoys\n",
    "            for convoy_candidate in convoy_candidates:\n",
    "                convoy_candidate_indices = convoy_candidate.indices\n",
    "                convoy_candidate.is_assigned = False\n",
    "                for cluster in unique_clusters:\n",
    "                    cluster_indices = clusters_indices[cluster].indices\n",
    "                    cluster_candidate_intersection = cluster_indices & convoy_candidate_indices\n",
    "                    if len(cluster_candidate_intersection) < self.m:\n",
    "                        continue\n",
    "                    convoy_candidate.indices = cluster_candidate_intersection\n",
    "                    current_convoy_candidates.add(convoy_candidate)\n",
    "                    convoy_candidate.end_time = column\n",
    "                    clusters_indices[cluster].is_assigned = convoy_candidate.is_assigned = True\n",
    "\n",
    "                # check if candidates qualify as convoys\n",
    "                candidate_life_time = (convoy_candidate.end_time - convoy_candidate.start_time) + 1\n",
    "                if (not convoy_candidate.is_assigned or column == column_iterator[-1]) and candidate_life_time >= self.k:\n",
    "                    output_convoys.append(convoy_candidate)\n",
    "\n",
    "            # create new candidates\n",
    "            for cluster in unique_clusters:\n",
    "                cluster_data = clusters_indices[cluster]\n",
    "                if cluster_data.is_assigned:\n",
    "                    continue\n",
    "                cluster_data.start_time = cluster_data.end_time = column\n",
    "                current_convoy_candidates.add(cluster_data)\n",
    "            convoy_candidates = current_convoy_candidates\n",
    "        return output_convoys"
   ]
  },
  {
   "cell_type": "code",
   "execution_count": 28,
   "id": "b2e319a7",
   "metadata": {},
   "outputs": [],
   "source": [
    "# Clustering using DBSCAN\n",
    "clustering_clf = DBSCAN(eps=2.13)\n"
   ]
  },
  {
   "cell_type": "code",
   "execution_count": 29,
   "id": "54262783",
   "metadata": {},
   "outputs": [],
   "source": [
    "# # Test data of 3D Coordinates\n",
    "# # Elements (Molecules) are in row, timesteps are in column\n",
    "\n",
    "# test_data = ([[3,1,3],[3,2,4],[2,4,5]],\n",
    "#         [[4,2,2],[6,2,3],[4,4,5]],\n",
    "#         [[1,1,3],[51,2,-1],[55,3,0]],\n",
    "#         [[51,2,1],[52,2,4],[56,-3, 2]])"
   ]
  },
  {
   "cell_type": "code",
   "execution_count": null,
   "id": "426fb0a7",
   "metadata": {},
   "outputs": [],
   "source": [
    "# Min elements for convoy = m\n",
    "# Min consecutive timesteps = k\n",
    "\n",
    "clf = CMC(clustering_clf, k=50, m=30)\n",
    "\n",
    "# Convoy calculation using Test data\n",
    "convoys = clf.fit_predict(convoy_data)\n",
    "print(\"Total number of Convoys =\", len(convoys))"
   ]
  },
  {
   "cell_type": "code",
   "execution_count": 12,
   "id": "715ef613",
   "metadata": {},
   "outputs": [],
   "source": [
    "# # file = open(\"output.txt\", \"w\")\n",
    "\n",
    "# for convoy in convoys:\n",
    "#     print('No of elements in the Convoy',len(convoy.indices))  \n",
    "# #     for i in convoy.indices:\n",
    "# #         print('%i: %r - Start Time: %r, End Time: %r' % (i, data[i], convoy.start_time, convoy.end_time))\n",
    "#     print(convoy)\n",
    "# #     file.write('%r - S: %r, E: %r\\n' % (convoy.indices, convoy.start_time, convoy.end_time))\n",
    "# #     file.write(str(convoy.start_time))\n",
    "# #     file.write(str(convoy.end_time))\n",
    "# # file.close()"
   ]
  },
  {
   "cell_type": "code",
   "execution_count": 13,
   "id": "54bf479f",
   "metadata": {},
   "outputs": [],
   "source": [
    "# df = pd.read_csv(r\"C:\\Users\\mhanowar\\Box\\Iowa State Research\\Shared Materials_Abdullah_Hasan\\Convoy Detection\\Data\\atom_list.csv\")\n",
    "\n",
    "# for convoy in convoys:\n",
    "#     print('No of elements in this Convoy = ',len(convoy.indices))\n",
    "#     print(convoy)\n",
    "# #     print (sorted(convoy.indices))\n",
    "#     convoy_atom_type = list()\n",
    "#     for x in convoy.indices:\n",
    "#         convoy_atom_type.append(df.iloc[x].atom_type)\n",
    "        \n",
    "#     print(convoy_atom_type)\n"
   ]
  },
  {
   "cell_type": "code",
   "execution_count": null,
   "id": "8bf7ac4e",
   "metadata": {},
   "outputs": [],
   "source": [
    "drugName = \"SFL11\"\n",
    "\n",
    "#load HB info and extract the information for 3 interesting atoms - this will help filter out the convoys in the next cell\n",
    "\n",
    "dfHB = pd.read_csv(r\"C:\\Users\\mhanowar\\Box\\Iowa State Research\\Shared Materials_Abdullah_Hasan\\Convoy Detection\\Data\\longestHBatomid.csv\")\n",
    "drugInfo = dfHB[dfHB[\"drug\"] == drugName]\n",
    "threeAtoms = [\"nitrogen_atom_id\", \"hydrogen_atom_id\", \"oxygen_atom_id\"]\n",
    "x = drugInfo[threeAtoms].values"
   ]
  },
  {
   "cell_type": "code",
   "execution_count": null,
   "id": "ba4231dc",
   "metadata": {},
   "outputs": [],
   "source": [
    "outputFilename = \"convoys_test.txt\"\n",
    "count = 0\n",
    "for convoy in convoys:\n",
    "    if x.issubset(convoy.indices):\n",
    "        indices = list(convoy.indices)\n",
    "        indices.sort()\n",
    "        count = count+1\n",
    "        print(count)\n",
    "        print(indices)\n",
    "        \n",
    "            \n",
    "# with open(outputFilename, 'w') as f:\n",
    "#         for convoy in convoys:\n",
    "#             for x in drugInfo[threeAtoms].values:\n",
    "#                 # print(x)\n",
    "#                 for i in x:\n",
    "#                     # print(i)\n",
    "#                     if i in convoy.indices:\n",
    "#                         indices = list(convoy.indices)\n",
    "#                         indices.sort()\n",
    "#                         print(f\"Convoy has {len(convoy.indices)} elements starting at {convoy.start_time} and ending at {convoy.end_time}\")\n",
    "#                         print(indices)\n",
    "#                         continue\n",
    "\n",
    "# f.close()\n",
    "# print(f\"Written to {outputFilename}\")"
   ]
  },
  {
   "cell_type": "code",
   "execution_count": 15,
   "id": "c76384aa",
   "metadata": {},
   "outputs": [
    {
     "name": "stdout",
     "output_type": "stream",
     "text": [
      "Written to convoys.txt\n"
     ]
    }
   ],
   "source": [
    "# outputFilename = \"convoys.txt\"\n",
    "\n",
    "# from contextlib import redirect_stdout\n",
    "# with open(outputFilename, 'w') as f:\n",
    "#     with redirect_stdout(f):\n",
    "#         for convoy in convoys:\n",
    "#             for x in drugInfo[threeAtoms].values:\n",
    "#                 # print(x)\n",
    "#                 for i in x:\n",
    "#                     # print(i)\n",
    "#                     if i in convoy.indices:\n",
    "#                         # print('No of elements in this Convoy = ',len(convoy.indices))\n",
    "#                         # print(\"atom id\", i)\n",
    "#                         indices = list(convoy.indices)\n",
    "#                         indices.sort()\n",
    "#                         print(f\"Convoy has {len(convoy.indices)} elements starting at {convoy.start_time} and ending at {convoy.end_time}\")\n",
    "#                         print(indices)\n",
    "#         #     print (sorted(convoy.indices))\n",
    "#                         # convoy_atom_type = list()\n",
    "#                         # for y in convoy.indices:\n",
    "#                         #     convoy_atom_type.append(df.iloc[y].atom_type)\n",
    "\n",
    "#                         # print(convoy_atom_type)\n",
    "#                         continue\n",
    "\n",
    "# f.close()\n",
    "# print(f\"Written to {outputFilename}\")\n",
    "\n"
   ]
  },
  {
   "cell_type": "code",
   "execution_count": 16,
   "id": "dbc9f264",
   "metadata": {},
   "outputs": [],
   "source": [
    "# filePath = r\"C:\\Users\\mhanowar\\Box\\Iowa State Research\\Shared Materials_Abdullah_Hasan\\Abdullah Data\\ring_centers.npy\"\n",
    "# data = np.load(filePath)\n",
    "# data = data[:200000]\n",
    "# data = np.array(data)\n",
    "# data.shape\n"
   ]
  },
  {
   "cell_type": "code",
   "execution_count": 19,
   "id": "0b46f4d3",
   "metadata": {},
   "outputs": [],
   "source": [
    "from sklearn.neighbors import NearestNeighbors\n",
    "neigh = NearestNeighbors(n_neighbors=2)\n",
    "nbrs = neigh.fit(data[1500])\n",
    "distances, indices = nbrs.kneighbors(data[1500])"
   ]
  },
  {
   "cell_type": "code",
   "execution_count": 20,
   "id": "15c99344",
   "metadata": {},
   "outputs": [
    {
     "data": {
      "image/png": "[encoded data removed]",
      "text/plain": [
       "<Figure size 1440x720 with 1 Axes>"
      ]
     },
     "metadata": {
      "needs_background": "light"
     },
     "output_type": "display_data"
    }
   ],
   "source": [
    "# Plotting K-distance Graph\n",
    "distances = np.sort(distances, axis=0)\n",
    "distances = distances[:,1]\n",
    "plt.figure(figsize=(20,10))\n",
    "plt.plot(distances)\n",
    "plt.title('K-distance Graph',fontsize=20)\n",
    "plt.xlabel('Data Points sorted by distance',fontsize=14)\n",
    "plt.ylabel('Epsilon',fontsize=14)\n",
    "plt.show()"
   ]
  },
  {
   "cell_type": "code",
   "execution_count": null,
   "id": "0e0b4f49",
   "metadata": {},
   "outputs": [],
   "source": []
  }
 ],
 "metadata": {
  "kernelspec": {
   "display_name": "Python 3",
   "language": "python",
   "name": "python3"
  },
  "language_info": {
   "codemirror_mode": {
    "name": "ipython",
    "version": 3
   },
   "file_extension": ".py",
   "mimetype": "text/x-python",
   "name": "python",
   "nbconvert_exporter": "python",
   "pygments_lexer": "ipython3",
   "version": "3.8.8"
  }
 },
 "nbformat": 4,
 "nbformat_minor": 5
}
