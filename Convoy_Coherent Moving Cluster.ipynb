{
 "cells": [
  {
   "cell_type": "code",
   "execution_count": 1,
   "id": "6a1e04cb",
   "metadata": {},
   "outputs": [],
   "source": [
    "# Import all libraries\n",
    "\n",
    "import numpy as np\n",
    "from sklearn.cluster import DBSCAN\n",
    "import pandas as pd\n",
    "import matplotlib.pyplot as plt"
   ]
  },
  {
   "cell_type": "code",
   "execution_count": 188,
   "id": "0f82ee8a",
   "metadata": {},
   "outputs": [],
   "source": [
    "# # Rings CoM as input\n",
    "\n",
    "# filePath = r\"C:\\Users\\mhanowar\\Box\\Iowa State Research\\Shared Materials_Abdullah_Hasan\\Abdullah Data\\ring_centers.npy\"\n",
    "# data = np.load(filePath)"
   ]
  },
  {
   "cell_type": "code",
   "execution_count": 2,
   "id": "5fc2a628",
   "metadata": {},
   "outputs": [],
   "source": [
    "# # All atoms as input\n",
    "# # Brute Force\n",
    "\n",
    "filePath = r\"C:\\Users\\mhanowar\\Box\\Iowa State Research\\Shared Materials_Abdullah_Hasan\\Convoy Detection\\Data\\traj2-55k-65k.npy\"\n",
    "data = np.load(filePath)"
   ]
  },
  {
   "cell_type": "code",
   "execution_count": 12,
   "id": "9c3fbff7",
   "metadata": {},
   "outputs": [
    {
     "data": {
      "text/plain": [
       "array([[[12.80264282,  2.91003132, 33.40210342],\n",
       "        [12.80264282,  2.91003132, 33.40210342],\n",
       "        [12.80264282,  2.91003132, 33.40210342],\n",
       "        ...,\n",
       "        [10.94823742,  1.99642873, 33.80776215],\n",
       "        [10.94823742,  1.99642873, 33.80776215],\n",
       "        [10.94823742,  1.99642873, 33.80776215]],\n",
       "\n",
       "       [[12.6194458 ,  4.34170294, 34.10076141],\n",
       "        [12.6194458 ,  4.34170294, 34.10076141],\n",
       "        [12.6194458 ,  4.34170294, 34.10076141],\n",
       "        ...,\n",
       "        [10.91374207,  3.22600341, 34.74869156],\n",
       "        [10.91374207,  3.22600341, 34.74869156],\n",
       "        [10.91374207,  3.22600341, 34.74869156]],\n",
       "\n",
       "       [[11.17844105,  4.9661293 , 33.90523911],\n",
       "        [11.17844105,  4.9661293 , 33.90523911],\n",
       "        [11.17844105,  4.9661293 , 33.90523911],\n",
       "        ...,\n",
       "        [ 9.96331978,  4.33637428, 34.30192566],\n",
       "        [ 9.96331978,  4.33637428, 34.30192566],\n",
       "        [ 9.96331978,  4.33637428, 34.30192566]],\n",
       "\n",
       "       ...,\n",
       "\n",
       "       [[ 5.33915758, 49.49307632, 64.90279388],\n",
       "        [ 5.33915758, 49.49307632, 64.90279388],\n",
       "        [ 5.33915758, 49.49307632, 64.90279388],\n",
       "        ...,\n",
       "        [16.25180626, 37.4084549 , 66.46234131],\n",
       "        [16.25180626, 37.4084549 , 66.46234131],\n",
       "        [16.25180626, 37.4084549 , 66.46234131]],\n",
       "\n",
       "       [[ 3.18428874, 46.04201889, 66.36639404],\n",
       "        [ 3.18428874, 46.04201889, 66.36639404],\n",
       "        [ 3.18428874, 46.04201889, 66.36639404],\n",
       "        ...,\n",
       "        [13.40076828, 35.45628357, 68.82299805],\n",
       "        [13.40076828, 35.45628357, 68.82299805],\n",
       "        [13.40076828, 35.45628357, 68.82299805]],\n",
       "\n",
       "       [[ 3.64700484, 47.75409698, 64.56201935],\n",
       "        [ 3.64700484, 47.75409698, 64.56201935],\n",
       "        [ 3.64700484, 47.75409698, 64.56201935],\n",
       "        ...,\n",
       "        [15.54027653, 35.40398026, 67.62167358],\n",
       "        [15.54027653, 35.40398026, 67.62167358],\n",
       "        [15.54027653, 35.40398026, 67.62167358]]])"
      ]
     },
     "execution_count": 12,
     "metadata": {},
     "output_type": "execute_result"
    }
   ],
   "source": [
    "# View Data Shape\n",
    "data = np.array(data)\n",
    "data"
   ]
  },
  {
   "cell_type": "code",
   "execution_count": 3,
   "id": "30db1a52",
   "metadata": {},
   "outputs": [],
   "source": [
    "# Transpose the data for Convoy algorithm\n",
    "\n",
    "data1 = list()\n",
    "for x in range(6126):\n",
    "    \n",
    "    data1.append(data[4300:5000,x,0:3].tolist())\n",
    "\n",
    "data = data1"
   ]
  },
  {
   "cell_type": "code",
   "execution_count": 192,
   "id": "7dac8253",
   "metadata": {},
   "outputs": [],
   "source": [
    "# cluster = DBSCAN(eps=9, min_samples=4).fit(data[0])\n",
    "\n",
    "# print(\"Number of Clusters = \", max(cluster.labels_)+1)"
   ]
  },
  {
   "cell_type": "code",
   "execution_count": 4,
   "id": "6cea8c1d",
   "metadata": {},
   "outputs": [],
   "source": [
    "class ConvoyCandidate(object):\n",
    "    \"\"\"\n",
    "    Attributes:\n",
    "        indices(set): The object indices assigned to the convoy\n",
    "        is_assigned (bool):\n",
    "        start_time (int):  The start index of the convoy\n",
    "        end_time (int):  The last index of the convoy\n",
    "    \"\"\"\n",
    "    __slots__ = ('indices', 'is_assigned', 'start_time', 'end_time')\n",
    "\n",
    "    def __init__(self, indices, is_assigned, start_time, end_time):\n",
    "        self.indices = indices\n",
    "        self.is_assigned = is_assigned\n",
    "        self.start_time = start_time\n",
    "        self.end_time = end_time\n",
    "\n",
    "    def __repr__(self):\n",
    "        return '<%r %r indices=%r, is_assigned=%r, start_time=%r, end_time=%r>' % (self.__class__.__name__, id(self), self.indices, self.is_assigned, self.start_time, self.end_time)"
   ]
  },
  {
   "cell_type": "code",
   "execution_count": 5,
   "id": "ae451057",
   "metadata": {},
   "outputs": [],
   "source": [
    "class CMC(object):\n",
    "    \"\"\"Coherence Moving Cluster (CMC) algorithm\n",
    "\n",
    "    Attributes:\n",
    "        k (int):  Min number of consecutive timestamps to be considered a convoy\n",
    "        m (int):  Min number of elements to be considered a convoy\n",
    "    \"\"\"\n",
    "    def __init__(self, clf, k, m):\n",
    "        self.clf = clf\n",
    "        self.k = k\n",
    "        self.m = m\n",
    "\n",
    "    def fit_predict(self, X, y=None, sample_weight=None):\n",
    "        convoy_candidates = set()\n",
    "        columns = len(X[0])\n",
    "        column_iterator = range(columns)\n",
    "        output_convoys = []\n",
    "\n",
    "        for column in column_iterator:\n",
    "            current_convoy_candidates = set()\n",
    "            values = [row[column] if isinstance(row[column], (list, set)) else [row[column]] for row in X]\n",
    "            if len(values) < self.m:\n",
    "                continue\n",
    "            clusters = self.clf.fit_predict(values, y=y, sample_weight=sample_weight)\n",
    "            unique_clusters = set(clusters)\n",
    "            clusters_indices = dict((cluster, ConvoyCandidate(indices=set(), is_assigned=False, start_time=None, end_time=None)) for cluster in unique_clusters)\n",
    "\n",
    "            for index, cluster_assignment in enumerate(clusters):\n",
    "                clusters_indices[cluster_assignment].indices.add(index)\n",
    "\n",
    "            # update existing convoys\n",
    "            for convoy_candidate in convoy_candidates:\n",
    "                convoy_candidate_indices = convoy_candidate.indices\n",
    "                convoy_candidate.is_assigned = False\n",
    "                for cluster in unique_clusters:\n",
    "                    cluster_indices = clusters_indices[cluster].indices\n",
    "                    cluster_candidate_intersection = cluster_indices & convoy_candidate_indices\n",
    "                    if len(cluster_candidate_intersection) < self.m:\n",
    "                        continue\n",
    "                    convoy_candidate.indices = cluster_candidate_intersection\n",
    "                    current_convoy_candidates.add(convoy_candidate)\n",
    "                    convoy_candidate.end_time = column\n",
    "                    clusters_indices[cluster].is_assigned = convoy_candidate.is_assigned = True\n",
    "\n",
    "                # check if candidates qualify as convoys\n",
    "                candidate_life_time = (convoy_candidate.end_time - convoy_candidate.start_time) + 1\n",
    "                if (not convoy_candidate.is_assigned or column == column_iterator[-1]) and candidate_life_time >= self.k:\n",
    "                    output_convoys.append(convoy_candidate)\n",
    "\n",
    "            # create new candidates\n",
    "            for cluster in unique_clusters:\n",
    "                cluster_data = clusters_indices[cluster]\n",
    "                if cluster_data.is_assigned:\n",
    "                    continue\n",
    "                cluster_data.start_time = cluster_data.end_time = column\n",
    "                current_convoy_candidates.add(cluster_data)\n",
    "            convoy_candidates = current_convoy_candidates\n",
    "        return output_convoys"
   ]
  },
  {
   "cell_type": "code",
   "execution_count": 6,
   "id": "b2e319a7",
   "metadata": {},
   "outputs": [],
   "source": [
    "# Clustering using DBSCAN\n",
    "clustering_clf = DBSCAN(eps=2.13)\n"
   ]
  },
  {
   "cell_type": "code",
   "execution_count": 196,
   "id": "54262783",
   "metadata": {},
   "outputs": [],
   "source": [
    "# # # # Test data of 3D Coordinates\n",
    "# # # # Elements (Molecules) are in row, timesteps are in column\n",
    "\n",
    "# data = ([[3,1,3],[3,2,4],[2,4,5]],\n",
    "#         [[4,2,2],[6,2,3],[4,4,5]],\n",
    "#         [[1,1,3],[51,2,-1],[55,3,0]],\n",
    "#         [[51,2,1],[52,2,4],[56,-3, 2]])"
   ]
  },
  {
   "cell_type": "code",
   "execution_count": 7,
   "id": "426fb0a7",
   "metadata": {},
   "outputs": [
    {
     "name": "stdout",
     "output_type": "stream",
     "text": [
      "Total number of Convoys = 28\n"
     ]
    }
   ],
   "source": [
    "# Min elements for convoy = m\n",
    "# Min consecutive timesteps = k\n",
    "\n",
    "clf = CMC(clustering_clf, k=50, m=30)\n",
    "\n",
    "# Convoy calculation using Test data\n",
    "convoys = clf.fit_predict(data)\n",
    "print(\"Total number of Convoys =\", len(convoys))"
   ]
  },
  {
   "cell_type": "code",
   "execution_count": null,
   "id": "dfda7c93",
   "metadata": {},
   "outputs": [],
   "source": []
  },
  {
   "cell_type": "code",
   "execution_count": 8,
   "id": "715ef613",
   "metadata": {},
   "outputs": [
    {
     "name": "stdout",
     "output_type": "stream",
     "text": [
      "Detected Convoy\n",
      "No of elements in the Convoy 30\n",
      "<'ConvoyCandidate' 2682579032896 indices={1811, 1812, 1813, 1814, 1815, 1816, 1817, 1818, 1819, 1820, 1821, 1822, 1823, 1829, 1830, 1842, 2612, 1854, 1886, 1887, 1888, 1889, 2548, 2549, 2550, 2551, 2552, 2553, 2554, 2555}, is_assigned=False, start_time=0, end_time=199>\n",
      "Detected Convoy\n",
      "No of elements in the Convoy 33\n",
      "<'ConvoyCandidate' 2680495186304 indices={5640, 4905, 4906, 4907, 4908, 4909, 4910, 4911, 4912, 4913, 4914, 4915, 4916, 4917, 4923, 4924, 4925, 4926, 4927, 4928, 4929, 4935, 4936, 4948, 5614, 5615, 5616, 5617, 5618, 5619, 5620, 5621, 5631}, is_assigned=False, start_time=0, end_time=199>\n",
      "Detected Convoy\n",
      "No of elements in the Convoy 66\n",
      "<'ConvoyCandidate' 2680495220928 indices={3456, 3465, 3477, 4118, 4119, 4120, 4121, 4122, 4123, 4124, 4125, 3358, 3359, 3360, 3361, 3362, 3363, 3364, 3365, 3366, 3367, 3368, 3489, 3377, 3449, 3446, 4155, 4156, 3389, 4157, 4158, 4159, 4160, 4161, 4162, 3447, 3448, 3401, 3402, 3403, 3404, 3405, 3406, 3407, 3408, 3409, 3410, 3411, 3412, 3421, 3433, 4081, 4082, 4083, 4084, 3445, 4085, 4087, 4088, 4086, 3450, 3451, 3452, 3453, 3454, 3455}, is_assigned=False, start_time=0, end_time=199>\n",
      "Detected Convoy\n",
      "No of elements in the Convoy 41\n",
      "<'ConvoyCandidate' 2680495158848 indices={5762, 5763, 5764, 5124, 5765, 5766, 5767, 5768, 5804, 5037, 5038, 5039, 5040, 5041, 5042, 5043, 5044, 5045, 5046, 5047, 5056, 5068, 5080, 5081, 5082, 5083, 5084, 5085, 5086, 5087, 5088, 5725, 5726, 5727, 5728, 5729, 5730, 5731, 5732, 5100, 5112}, is_assigned=False, start_time=0, end_time=199>\n",
      "Detected Convoy\n",
      "No of elements in the Convoy 34\n",
      "<'ConvoyCandidate' 2680495263104 indices={3712, 3713, 3714, 3715, 2948, 2949, 3716, 3717, 3718, 3727, 3728, 2961, 2942, 2918, 2919, 2920, 2921, 2922, 2923, 2924, 2925, 2926, 2927, 2928, 2929, 2930, 2936, 2937, 2938, 2939, 2940, 2941, 3710, 3711}, is_assigned=False, start_time=0, end_time=199>\n",
      "Detected Convoy\n",
      "No of elements in the Convoy 40\n",
      "<'ConvoyCandidate' 2680495139072 indices={3622, 3623, 3624, 3625, 3626, 3627, 3628, 3629, 3630, 3631, 3632, 3641, 3653, 4303, 4304, 3665, 3666, 3667, 3668, 3669, 3670, 3671, 3672, 3673, 4305, 4306, 4307, 4308, 4309, 4310, 3685, 3697, 4340, 4341, 4342, 4343, 4344, 4345, 4346, 3709}, is_assigned=False, start_time=0, end_time=199>\n",
      "Detected Convoy\n",
      "No of elements in the Convoy 70\n",
      "<'ConvoyCandidate' 2680495210304 indices={5248, 5249, 5250, 5251, 4484, 4496, 4508, 4509, 4510, 4511, 4512, 4513, 4514, 4515, 4516, 4517, 4518, 4519, 5281, 5282, 5283, 5284, 5285, 5286, 5287, 5288, 4528, 4540, 5318, 5319, 4552, 4553, 4554, 4555, 4556, 4557, 4558, 4559, 4560, 5320, 5321, 5322, 5323, 5324, 4469, 4572, 5345, 5346, 4584, 4585, 4586, 4587, 4588, 4589, 4473, 4465, 4466, 4467, 4596, 4595, 4468, 4471, 4472, 4470, 4474, 4475, 5244, 5245, 5246, 5247}, is_assigned=False, start_time=0, end_time=199>\n",
      "Detected Convoy\n",
      "No of elements in the Convoy 55\n",
      "<'ConvoyCandidate' 2680494720512 indices={3712, 3713, 3714, 3715, 3716, 2949, 3717, 3718, 2961, 2962, 2963, 2964, 2965, 2966, 2967, 2968, 2969, 2970, 2971, 2972, 3748, 2981, 2982, 2983, 2984, 2985, 2986, 3749, 3750, 3751, 3752, 3753, 2992, 2993, 3754, 3755, 3765, 3005, 2918, 2919, 2920, 2921, 2922, 2923, 2924, 2925, 2926, 2927, 2928, 2929, 2930, 2936, 2937, 3710, 3711}, is_assigned=True, start_time=200, end_time=699>\n",
      "Detected Convoy\n",
      "No of elements in the Convoy 76\n",
      "<'ConvoyCandidate' 2682578962496 indices={3584, 3585, 4229, 4230, 4231, 4232, 4233, 4234, 4235, 4236, 3597, 3577, 4245, 3621, 3622, 3623, 3624, 3625, 3626, 3627, 3628, 3629, 3630, 3631, 3632, 3633, 3634, 4266, 4267, 4268, 4269, 4270, 3640, 3641, 3653, 3661, 3534, 4303, 3664, 3665, 4306, 4307, 4304, 4305, 4310, 3535, 3536, 3537, 3538, 3539, 3540, 3541, 3542, 3543, 3544, 3545, 3546, 4308, 3552, 3553, 3582, 3565, 4335, 4336, 4271, 4337, 4338, 4309, 4272, 3662, 3578, 3579, 3580, 3581, 3663, 3583}, is_assigned=True, start_time=200, end_time=699>\n",
      "Detected Convoy\n",
      "No of elements in the Convoy 103\n",
      "<'ConvoyCandidate' 2680494787584 indices={4609, 4610, 4611, 4612, 4616, 4628, 4630, 4640, 4641, 4642, 4643, 4644, 4645, 4646, 4647, 4648, 4649, 4650, 4651, 4652, 4653, 4659, 4660, 4661, 4662, 4663, 4664, 4665, 4671, 4672, 4684, 4685, 4686, 4687, 4688, 4689, 4690, 4691, 4692, 4693, 4694, 4695, 4704, 4716, 4728, 5318, 5319, 5320, 5321, 5322, 5323, 5324, 5325, 5355, 5356, 5357, 5358, 5359, 5360, 5361, 5364, 5365, 5366, 5392, 5393, 5394, 5395, 5396, 5397, 5398, 5399, 5408, 5409, 5429, 5430, 5431, 5432, 5433, 5434, 5435, 5436, 4553, 4554, 4555, 4556, 4557, 4558, 4559, 4560, 4561, 4562, 4563, 4572, 4584, 4596, 4597, 4598, 4599, 4600, 4601, 4602, 4603, 4604}, is_assigned=True, start_time=201, end_time=699>\n",
      "Detected Convoy\n",
      "No of elements in the Convoy 64\n",
      "<'ConvoyCandidate' 2680495083392 indices={3333, 4108, 4109, 3345, 3357, 4126, 3358, 3360, 3361, 3362, 3363, 3364, 3365, 3359, 4007, 4008, 4009, 4010, 4011, 4012, 4013, 3377, 3319, 3389, 3390, 3391, 3392, 3393, 3394, 3321, 3270, 3271, 3272, 3273, 3274, 3275, 3276, 3277, 3400, 3401, 4044, 4045, 4046, 4047, 4048, 4049, 4050, 3289, 3301, 4081, 3313, 3315, 4082, 3314, 4083, 4087, 3320, 4084, 4085, 3323, 4086, 3316, 3317, 3318}, is_assigned=True, start_time=200, end_time=699>\n",
      "Detected Convoy\n",
      "No of elements in the Convoy 40\n",
      "<'ConvoyCandidate' 2682579037760 indices={515, 527, 528, 529, 530, 531, 532, 533, 534, 535, 536, 537, 538, 547, 559, 1200, 1201, 1202, 1203, 1204, 1205, 1206, 571, 1237, 1238, 1239, 1240, 1241, 1242, 1243, 1244, 484, 485, 486, 487, 488, 489, 490, 491, 503}, is_assigned=True, start_time=0, end_time=699>\n",
      "Detected Convoy\n",
      "No of elements in the Convoy 85\n",
      "<'ConvoyCandidate' 2682579038080 indices={572, 573, 574, 575, 576, 577, 578, 579, 580, 581, 582, 591, 603, 615, 616, 617, 618, 619, 620, 621, 622, 623, 624, 625, 626, 635, 647, 659, 660, 661, 662, 663, 664, 665, 666, 667, 679, 691, 703, 704, 705, 706, 707, 708, 709, 710, 711, 712, 713, 714, 723, 735, 747, 1274, 1275, 1276, 1277, 1278, 1279, 1280, 1281, 1311, 1312, 1313, 1314, 1315, 1316, 1317, 1318, 1348, 1349, 1350, 1351, 1352, 1353, 1354, 1366, 1385, 1386, 1387, 1388, 1389, 1390, 1391, 1392}, is_assigned=True, start_time=0, end_time=699>\n",
      "Detected Convoy\n",
      "No of elements in the Convoy 40\n",
      "<'ConvoyCandidate' 2680495157696 indices={4992, 4993, 4994, 4995, 4996, 4997, 4998, 4999, 5000, 5651, 5012, 5652, 5653, 5655, 5656, 5657, 5654, 5658, 5024, 5036, 5688, 5689, 5690, 5691, 5692, 5693, 5694, 4949, 4950, 4951, 4952, 4953, 4954, 4955, 4956, 4957, 4958, 4959, 4968, 4980}, is_assigned=True, start_time=0, end_time=699>\n",
      "Detected Convoy\n",
      "No of elements in the Convoy 50\n",
      "<'ConvoyCandidate' 2682578941376 indices={2049, 2050, 2062, 2074, 2075, 2076, 2077, 2078, 2079, 2080, 2081, 2082, 2083, 2084, 2085, 2086, 2087, 2093, 2094, 2733, 2734, 2735, 2736, 2737, 2738, 2739, 2740, 2106, 2118, 2770, 2771, 2772, 2773, 2774, 2775, 2776, 2777, 2031, 2032, 2033, 2034, 2035, 2036, 2037, 2038, 2039, 2040, 2041, 2042, 2043}, is_assigned=True, start_time=0, end_time=699>\n",
      "Detected Convoy\n",
      "No of elements in the Convoy 40\n",
      "<'ConvoyCandidate' 2682578974720 indices={395, 396, 397, 398, 399, 400, 401, 402, 403, 404, 405, 406, 415, 427, 439, 1089, 1090, 1091, 1092, 1093, 1094, 1095, 352, 353, 354, 355, 356, 357, 358, 359, 1126, 1127, 1128, 1129, 1130, 1131, 1132, 1133, 371, 383}, is_assigned=True, start_time=0, end_time=699>\n",
      "Detected Convoy\n",
      "No of elements in the Convoy 58\n",
      "<'ConvoyCandidate' 2680495259328 indices={3081, 3859, 3860, 3093, 3094, 3095, 3863, 3864, 3096, 3098, 3099, 3100, 3101, 3097, 3865, 3113, 3125, 3896, 3897, 3898, 3899, 3900, 3901, 3902, 3137, 3138, 3139, 3140, 3141, 3142, 3143, 3144, 3145, 3157, 3169, 3861, 3862, 3050, 3051, 3052, 3053, 3054, 3055, 3056, 3057, 3058, 3059, 3181, 3822, 3823, 3824, 3825, 3826, 3827, 3060, 3828, 3069, 3829}, is_assigned=True, start_time=0, end_time=699>\n",
      "Detected Convoy\n",
      "No of elements in the Convoy 40\n",
      "<'ConvoyCandidate' 2680495261760 indices={2182, 2194, 2844, 2845, 2206, 2207, 2208, 2209, 2210, 2211, 2212, 2213, 2214, 2850, 2851, 2849, 2170, 2226, 2238, 2881, 2882, 2883, 2884, 2885, 2886, 2887, 2250, 2846, 2163, 2847, 2164, 2166, 2167, 2168, 2169, 2848, 2171, 2172, 2173, 2165}, is_assigned=True, start_time=0, end_time=699>\n",
      "Detected Convoy\n",
      "No of elements in the Convoy 44\n",
      "<'ConvoyCandidate' 2680494902336 indices={2564, 1798, 1810, 1811, 1812, 1813, 1814, 1815, 1816, 1817, 1818, 1819, 1820, 1821, 1822, 1823, 1786, 1829, 1830, 1842, 1854, 2512, 2513, 2514, 2515, 2516, 2517, 1767, 1768, 1769, 1770, 1771, 1772, 1773, 1774, 2548, 2549, 2550, 2551, 2552, 2553, 2554, 2555, 2556}, is_assigned=True, start_time=200, end_time=699>\n",
      "Detected Convoy\n",
      "No of elements in the Convoy 35\n",
      "<'ConvoyCandidate' 2680495691264 indices={2696, 2697, 2698, 2699, 2700, 2701, 2702, 1943, 1944, 1945, 1946, 1947, 1948, 1949, 1950, 1962, 1974, 1986, 1987, 1988, 1989, 1990, 1991, 1992, 1993, 1994, 2006, 2018, 2660, 2661, 2662, 2663, 2664, 2665, 2030}, is_assigned=True, start_time=201, end_time=699>\n",
      "Detected Convoy\n",
      "No of elements in the Convoy 35\n",
      "<'ConvoyCandidate' 2682579019008 indices={1930, 1942, 2585, 2586, 2587, 2588, 2589, 2590, 2591, 2622, 2623, 1856, 1857, 1858, 1859, 1860, 1861, 1862, 1855, 2624, 2625, 2626, 2627, 2628, 1874, 1898, 1899, 1900, 1901, 1902, 1903, 1904, 1905, 1906, 1918}, is_assigned=True, start_time=0, end_time=699>\n",
      "Detected Convoy\n",
      "No of elements in the Convoy 128\n",
      "<'ConvoyCandidate' 2680495760896 indices={1052, 1053, 1054, 1055, 1056, 1057, 1058, 132, 133, 134, 135, 136, 137, 138, 139, 140, 141, 142, 143, 144, 150, 151, 163, 175, 176, 177, 178, 179, 180, 181, 182, 183, 184, 185, 186, 195, 196, 197, 198, 199, 200, 206, 207, 219, 220, 221, 222, 223, 224, 225, 226, 227, 228, 229, 230, 231, 232, 238, 239, 251, 256, 257, 258, 259, 263, 264, 265, 266, 267, 268, 269, 270, 271, 272, 273, 274, 283, 295, 307, 308, 309, 310, 311, 312, 313, 314, 315, 327, 339, 351, 904, 905, 906, 907, 908, 909, 910, 911, 941, 942, 943, 944, 945, 946, 947, 948, 958, 978, 979, 980, 981, 982, 983, 984, 985, 1006, 1007, 1008, 1009, 1010, 1015, 1016, 1017, 1018, 1019, 1020, 1021, 1022}, is_assigned=True, start_time=201, end_time=699>\n",
      "Detected Convoy\n",
      "No of elements in the Convoy 49\n",
      "<'ConvoyCandidate' 2680495761216 indices={0, 1, 2, 3, 4, 5, 6, 7, 9, 19, 792, 793, 794, 795, 796, 797, 798, 31, 799, 43, 44, 45, 46, 47, 48, 49, 50, 51, 52, 53, 54, 830, 63, 831, 832, 833, 834, 835, 836, 837, 75, 76, 77, 78, 79, 80, 86, 87, 857}, is_assigned=True, start_time=201, end_time=699>\n",
      "Detected Convoy\n",
      "No of elements in the Convoy 53\n",
      "<'ConvoyCandidate' 2680495140608 indices={4377, 4378, 4379, 4380, 4381, 4382, 4383, 4384, 4385, 4386, 4387, 4396, 5169, 5170, 5171, 5172, 5173, 5174, 5175, 4408, 5176, 5177, 4420, 4421, 4422, 4423, 4424, 4425, 4426, 4427, 4428, 4429, 4430, 4431, 5207, 4440, 5208, 5209, 5210, 5211, 5212, 5213, 5214, 4452, 4453, 4454, 4455, 4456, 4457, 4463, 4464, 5234, 5235}, is_assigned=True, start_time=0, end_time=699>\n",
      "Detected Convoy\n",
      "No of elements in the Convoy 49\n",
      "<'ConvoyCandidate' 2682578988928 indices={2437, 2438, 2439, 2440, 2441, 2442, 2443, 1679, 1680, 1681, 1682, 1683, 1684, 1685, 1686, 2454, 1698, 1699, 1700, 1701, 1702, 1703, 2474, 2475, 2476, 1709, 1710, 2477, 2478, 2479, 2480, 2481, 1722, 1723, 1724, 1725, 1726, 1727, 1728, 1729, 1730, 1731, 1732, 1733, 1742, 2511, 1754, 1766, 1776}, is_assigned=True, start_time=0, end_time=699>\n",
      "Detected Convoy\n",
      "No of elements in the Convoy 58\n",
      "<'ConvoyCandidate' 2680495206528 indices={4864, 4865, 4866, 4867, 4868, 4869, 4870, 4871, 5504, 5505, 5506, 5507, 5508, 5509, 4880, 4863, 4892, 5540, 4773, 4774, 4775, 4776, 4777, 4778, 4779, 4780, 4904, 5542, 5543, 5544, 5545, 5546, 4792, 4804, 5577, 5578, 5579, 5580, 5581, 5582, 5583, 4816, 4817, 4818, 4819, 4820, 4821, 4822, 4823, 4824, 5584, 4836, 5541, 4848, 4860, 4861, 4862, 5503}, is_assigned=True, start_time=0, end_time=699>\n",
      "Detected Convoy\n",
      "No of elements in the Convoy 58\n",
      "<'ConvoyCandidate' 2682579023872 indices={1546, 1547, 1548, 1549, 1550, 1551, 1552, 1553, 1554, 1555, 1556, 1557, 2326, 2327, 2328, 2329, 2330, 2331, 2332, 2333, 1566, 1578, 1590, 1591, 1592, 1593, 1594, 1595, 1596, 1597, 1598, 2363, 2364, 2365, 2366, 2367, 2368, 2369, 1610, 1622, 1503, 1504, 1505, 1506, 1507, 1508, 1509, 1510, 1634, 2289, 1522, 2290, 2291, 2292, 2293, 2295, 2294, 1534}, is_assigned=True, start_time=0, end_time=699>\n",
      "Detected Convoy\n",
      "No of elements in the Convoy 122\n",
      "<'ConvoyCandidate' 2680495143104 indices={2560, 5632, 2566, 4103, 1033, 1037, 2593, 2597, 4134, 4136, 4140, 1070, 4146, 5683, 4150, 5178, 4163, 5700, 4171, 5710, 5741, 1138, 2681, 5243, 1148, 2685, 2687, 4224, 1158, 3719, 1162, 5770, 5262, 5778, 3737, 4251, 1179, 5790, 2732, 3756, 2741, 3766, 4292, 3780, 2759, 4298, 4302, 4321, 2788, 2280, 1265, 5875, 5877, 3830, 5373, 5885, 5887, 2305, 5377, 5889, 1286, 3850, 5387, 3854, 5391, 5904, 5906, 2835, 4372, 1306, 2843, 3867, 5916, 5918, 1319, 3881, 5420, 2352, 5424, 1337, 5945, 5441, 5445, 2899, 3924, 2389, 2395, 1376, 866, 1384, 5484, 879, 3951, 1393, 883, 5492, 3978, 1421, 912, 916, 5531, 5535, 5539, 1444, 6053, 6065, 4019, 6067, 949, 5566, 963, 2500, 4035, 6098, 4052, 6103, 6104, 5593, 986, 2537, 2547, 4089}, is_assigned=True, start_time=0, end_time=699>\n"
     ]
    }
   ],
   "source": [
    "# file = open(\"output.txt\", \"w\")\n",
    "\n",
    "for convoy in convoys:\n",
    "    print('Detected Convoy')\n",
    "    print('No of elements in the Convoy',len(convoy.indices))  \n",
    "#     for i in convoy.indices:\n",
    "#         print('%i: %r - Start Time: %r, End Time: %r' % (i, data[i], convoy.start_time, convoy.end_time))\n",
    "    print(convoy)\n",
    "#     file.write('%r - S: %r, E: %r\\n' % (convoy.indices, convoy.start_time, convoy.end_time))\n",
    "#     file.write(str(convoy.start_time))\n",
    "#     file.write(str(convoy.end_time))\n",
    "# file.close()"
   ]
  },
  {
   "cell_type": "code",
   "execution_count": 199,
   "id": "dbc9f264",
   "metadata": {},
   "outputs": [],
   "source": [
    "# filePath = r\"C:\\Users\\mhanowar\\Box\\Iowa State Research\\Shared Materials_Abdullah_Hasan\\Abdullah Data\\ring_centers.npy\"\n",
    "# data = np.load(filePath)\n",
    "# data = data[:200000]\n",
    "# data = np.array(data)\n",
    "# data.shape\n"
   ]
  },
  {
   "cell_type": "code",
   "execution_count": 200,
   "id": "44cba9ea",
   "metadata": {},
   "outputs": [],
   "source": [
    "# filePath = r\"C:\\Users\\mhanowar\\Box\\Iowa State Research\\Shared Materials_Abdullah_Hasan\\Convoy Detection\\Data\\traj2-55k-65k.npy\"\n",
    "# data = np.load(filePath)"
   ]
  },
  {
   "cell_type": "code",
   "execution_count": 201,
   "id": "0b46f4d3",
   "metadata": {},
   "outputs": [],
   "source": [
    "# from sklearn.neighbors import NearestNeighbors\n",
    "# neigh = NearestNeighbors(n_neighbors=2)\n",
    "# nbrs = neigh.fit(data[4400])\n",
    "# distances, indices = nbrs.kneighbors(data[4400])"
   ]
  },
  {
   "cell_type": "code",
   "execution_count": 202,
   "id": "15c99344",
   "metadata": {},
   "outputs": [
    {
     "data": {
      "image/png": "[encoded data removed]",
      "text/plain": [
       "<Figure size 1440x720 with 1 Axes>"
      ]
     },
     "metadata": {
      "needs_background": "light"
     },
     "output_type": "display_data"
    }
   ],
   "source": [
    "# # Plotting K-distance Graph\n",
    "# distances = np.sort(distances, axis=0)\n",
    "# # distances = distances[:,1]\n",
    "# plt.figure(figsize=(20,10))\n",
    "# plt.plot(distances)\n",
    "# plt.title('K-distance Graph',fontsize=20)\n",
    "# plt.xlabel('Data Points sorted by distance',fontsize=14)\n",
    "# plt.ylabel('Epsilon',fontsize=14)\n",
    "# plt.show()"
   ]
  },
  {
   "cell_type": "code",
   "execution_count": null,
   "id": "0e0b4f49",
   "metadata": {},
   "outputs": [],
   "source": []
  }
 ],
 "metadata": {
  "kernelspec": {
   "display_name": "Python 3",
   "language": "python",
   "name": "python3"
  },
  "language_info": {
   "codemirror_mode": {
    "name": "ipython",
    "version": 3
   },
   "file_extension": ".py",
   "mimetype": "text/x-python",
   "name": "python",
   "nbconvert_exporter": "python",
   "pygments_lexer": "ipython3",
   "version": "3.8.8"
  }
 },
 "nbformat": 4,
 "nbformat_minor": 5
}
